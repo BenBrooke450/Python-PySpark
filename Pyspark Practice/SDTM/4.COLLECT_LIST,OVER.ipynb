{
 "cells": [
  {
   "cell_type": "code",
   "execution_count": 51,
   "id": "1663db53-b407-46cb-a7eb-0ef35a162099",
   "metadata": {},
   "outputs": [],
   "source": [
    "from pyspark.sql import SparkSession\n",
    "from pyspark.sql.functions import col, lit, contains, when, sum, avg, round,max, row_number, desc, collect_list, array_join\n",
    "from pyspark.sql.window import Window\n",
    "from pyspark.sql.types import IntegerType"
   ]
  },
  {
   "cell_type": "code",
   "execution_count": 52,
   "id": "5a89d38f-7abe-49f3-b197-818f715a167d",
   "metadata": {},
   "outputs": [],
   "source": [
    "spark = SparkSession.builder.appName(\"ExtractNestedData\").getOrCreate()"
   ]
  },
  {
   "cell_type": "code",
   "execution_count": 53,
   "id": "08465ae1-586b-4414-87ef-66fbf7be9dbd",
   "metadata": {},
   "outputs": [],
   "source": [
    "df = spark.read.csv(\"/Users/benjaminbrooke/Desktop/Data/dicubed_sdtm_csv_2019-05-30/tr.csv\",header = True)\n",
    "df = df.drop(\"_c0\")"
   ]
  },
  {
   "cell_type": "code",
   "execution_count": 54,
   "id": "bdaf74c0-460c-4147-acb5-896ae4fe1927",
   "metadata": {},
   "outputs": [],
   "source": [
    "df = df.withColumn(\"id\",row_number().over(Window.partitionBy(\"STUDYID\").orderBy(\"TRDTC\")))"
   ]
  },
  {
   "cell_type": "code",
   "execution_count": 55,
   "id": "81ed89a4-542e-4013-aba1-a6cc926b52d1",
   "metadata": {},
   "outputs": [],
   "source": [
    "df = df.drop(\"STUDYID\", \"DOMAIN\",\"TRORRES\",\"TRORRESU\",\"TRSTRESC\")"
   ]
  },
  {
   "cell_type": "code",
   "execution_count": 56,
   "id": "d6bdf44a-0cf0-4cec-a29e-8fdaf322c269",
   "metadata": {},
   "outputs": [
    {
     "name": "stdout",
     "output_type": "stream",
     "text": [
      "+----------+-----+-------+--------+----------------+--------+--------+--------+--------+-----+----------+---+\n",
      "|   USUBJID|TRSEQ|TRLNKID|TRTESTCD|          TRTEST|TRSTRESN|TRSTRESU|TRMETHOD|VISITNUM|VISIT|     TRDTC| id|\n",
      "+----------+-----+-------+--------+----------------+--------+--------+--------+--------+-----+----------+---+\n",
      "|UCSF-BR-09|   41|    T01|  VOLUME|          Volume|    29.9|      mL|     MRI|       1|  MR1|1986-11-26|  1|\n",
      "|UCSF-BR-09|   42|    T01|   LDIAM|Longest Diameter|      64|      mm|     MRI|       1|  MR1|1986-11-26|  2|\n",
      "|UCSF-BR-09|   43|    T01|  VOLUME|          Volume|      20|      mL|     MRI|       3|  MR3|1987-01-27|  3|\n",
      "|UCSF-BR-09|   44|    T01|   LDIAM|Longest Diameter|      64|      mm|     MRI|       3|  MR3|1987-01-27|  4|\n",
      "|UCSF-BR-67|  369|    T01|   LDIAM|Longest Diameter|    61.7|      mm|     MRI|       1|  MR1|1988-04-21|  5|\n",
      "|UCSF-BR-67|  370|    T01|  VOLUME|          Volume|    30.1|      mL|     MRI|       1|  MR1|1988-04-21|  6|\n",
      "|UCSF-BR-13|   61|    T01|  VOLUME|          Volume|    66.7|      mL|     MRI|       1|  MR1|1988-04-25|  7|\n",
      "|UCSF-BR-13|   62|    T01|   LDIAM|Longest Diameter|    91.1|      mm|     MRI|       1|  MR1|1988-04-25|  8|\n",
      "|UCSF-BR-18|   81|    T01|  VOLUME|          Volume|    26.5|      mL|     MRI|       1|  MR1|1988-06-16|  9|\n",
      "|UCSF-BR-18|   82|    T01|   LDIAM|Longest Diameter|      71|      mm|     MRI|       1|  MR1|1988-06-16| 10|\n",
      "+----------+-----+-------+--------+----------------+--------+--------+--------+--------+-----+----------+---+\n",
      "only showing top 10 rows\n"
     ]
    }
   ],
   "source": [
    "df.show(10)"
   ]
  },
  {
   "cell_type": "code",
   "execution_count": 57,
   "id": "ca66a327-9188-405c-baf9-3b88466f2060",
   "metadata": {},
   "outputs": [],
   "source": [
    "df = df.withColumn(\"collect\", when(col(\"TRSTRESU\")==\"mL\",collect_list(\"TRSEQ\").over(Window.partitionBy(\"USUBJID\")))\n",
    "                   .otherwise(when(col(\"TRSTRESU\")==\"mm\",collect_list(\"TRSEQ\").over(Window.partitionBy(\"USUBJID\")))))"
   ]
  },
  {
   "cell_type": "code",
   "execution_count": 58,
   "id": "5e00b1fd-441d-42d7-bae7-161e19994797",
   "metadata": {},
   "outputs": [
    {
     "name": "stdout",
     "output_type": "stream",
     "text": [
      "+----------+-----+-------+--------+----------------+--------+--------+--------+--------+-----+----------+---+----------------+\n",
      "|   USUBJID|TRSEQ|TRLNKID|TRTESTCD|          TRTEST|TRSTRESN|TRSTRESU|TRMETHOD|VISITNUM|VISIT|     TRDTC| id|         collect|\n",
      "+----------+-----+-------+--------+----------------+--------+--------+--------+--------+-----+----------+---+----------------+\n",
      "|ISPY1_1001|    1|    T01|   LDIAM|Longest Diameter|      88|      mm|     MRI|       1|  MR1|1984-10-13|  1|    [1, 2, 3, 4]|\n",
      "|ISPY1_1001|    2|    T01|   LDIAM|Longest Diameter|      78|      mm|     MRI|       2|  MR2|1984-11-08|  3|    [1, 2, 3, 4]|\n",
      "|ISPY1_1001|    3|    T01|   LDIAM|Longest Diameter|      30|      mm|     MRI|       3|  MR3|1985-01-10| 10|    [1, 2, 3, 4]|\n",
      "|ISPY1_1001|    4|    T01|   LDIAM|Longest Diameter|      14|      mm|     MRI|       4|  MR4|1985-04-13| 27|    [1, 2, 3, 4]|\n",
      "|ISPY1_1002|    5|    T01|   LDIAM|Longest Diameter|      29|      mm|     MRI|       1|  MR1|1984-11-02|  2|    [5, 6, 7, 8]|\n",
      "|ISPY1_1002|    6|    T01|   LDIAM|Longest Diameter|      26|      mm|     MRI|       2|  MR2|1984-11-30|  5|    [5, 6, 7, 8]|\n",
      "|ISPY1_1002|    7|    T01|   LDIAM|Longest Diameter|      66|      mm|     MRI|       3|  MR3|1985-02-06| 13|    [5, 6, 7, 8]|\n",
      "|ISPY1_1002|    8|    T01|   LDIAM|Longest Diameter|      16|      mm|     MRI|       4|  MR4|1985-05-09| 34|    [5, 6, 7, 8]|\n",
      "|ISPY1_1003|    9|    T01|   LDIAM|Longest Diameter|      50|      mm|     MRI|       1|  MR1|1984-11-22|  4| [9, 10, 11, 12]|\n",
      "|ISPY1_1003|   10|    T01|   LDIAM|Longest Diameter|      64|      mm|     MRI|       2|  MR2|1984-12-13|  7| [9, 10, 11, 12]|\n",
      "|ISPY1_1003|   11|    T01|   LDIAM|Longest Diameter|      54|      mm|     MRI|       3|  MR3|1985-02-08| 14| [9, 10, 11, 12]|\n",
      "|ISPY1_1003|   12|    T01|   LDIAM|Longest Diameter|      46|      mm|     MRI|       4|  MR4|1985-05-09| 35| [9, 10, 11, 12]|\n",
      "|ISPY1_1004|   13|    T01|   LDIAM|Longest Diameter|      91|      mm|     MRI|       1|  MR1|1984-12-05|  6|[13, 14, 15, 16]|\n",
      "|ISPY1_1004|   14|    T01|   LDIAM|Longest Diameter|      90|      mm|     MRI|       2|  MR2|1984-12-20|  8|[13, 14, 15, 16]|\n",
      "|ISPY1_1004|   15|    T01|   LDIAM|Longest Diameter|      99|      mm|     MRI|       3|  MR3|1985-01-12| 12|[13, 14, 15, 16]|\n",
      "|ISPY1_1004|   16|    T01|   LDIAM|Longest Diameter|      43|      mm|     MRI|       4|  MR4|1985-03-21| 21|[13, 14, 15, 16]|\n",
      "|ISPY1_1005|   17|    T01|   LDIAM|Longest Diameter|      98|      mm|     MRI|       1|  MR1|1984-12-23|  9|[17, 18, 19, 20]|\n",
      "|ISPY1_1005|   18|    T01|   LDIAM|Longest Diameter|     109|      mm|     MRI|       2|  MR2|1985-01-11| 11|[17, 18, 19, 20]|\n",
      "|ISPY1_1005|   19|    T01|   LDIAM|Longest Diameter|      60|      mm|     MRI|       3|  MR3|1985-03-18| 20|[17, 18, 19, 20]|\n",
      "|ISPY1_1005|   20|    T01|   LDIAM|Longest Diameter|      42|      mm|     MRI|       4|  MR4|1985-06-07| 46|[17, 18, 19, 20]|\n",
      "+----------+-----+-------+--------+----------------+--------+--------+--------+--------+-----+----------+---+----------------+\n",
      "only showing top 20 rows\n"
     ]
    }
   ],
   "source": [
    "df.show(20)"
   ]
  },
  {
   "cell_type": "code",
   "execution_count": 59,
   "id": "def60427-ae37-4313-82f4-66048fd9671f",
   "metadata": {},
   "outputs": [],
   "source": [
    "df = df.withColumn(\"collect\", array_join(col(\"collect\"),\" | \"))"
   ]
  },
  {
   "cell_type": "code",
   "execution_count": 66,
   "id": "eec9f02f-2494-4a7f-b829-1afb817acae6",
   "metadata": {},
   "outputs": [],
   "source": [
    "df = df.withColumn(\"collect_dates\", when(col(\"TRSTRESU\")==\"mL\",collect_list(\"TRDTC\").over(Window.partitionBy(\"USUBJID\")))\n",
    "                   .otherwise(when(col(\"TRSTRESU\")==\"mm\",collect_list(\"TRDTC\").over(Window.partitionBy(\"USUBJID\")))))"
   ]
  },
  {
   "cell_type": "code",
   "execution_count": 67,
   "id": "b97fcc30-e95a-44ad-97b1-a1ed19aa9740",
   "metadata": {},
   "outputs": [],
   "source": [
    "df = df.withColumn(\"collect_numbers\", when(col(\"TRSTRESU\")==\"mL\",collect_list(\"TRSTRESN\").over(Window.partitionBy(\"USUBJID\")))\n",
    "                   .otherwise(when(col(\"TRSTRESU\")==\"mm\",collect_list(\"TRSTRESN\").over(Window.partitionBy(\"USUBJID\")))))"
   ]
  },
  {
   "cell_type": "code",
   "execution_count": 68,
   "id": "15734244-efe2-433f-a7ef-c760a265f8af",
   "metadata": {},
   "outputs": [
    {
     "name": "stdout",
     "output_type": "stream",
     "text": [
      "+----------+-----+-------+--------+----------------+--------+--------+--------+--------+-----+----------+---+-----------------+--------------------+-----------------+\n",
      "|   USUBJID|TRSEQ|TRLNKID|TRTESTCD|          TRTEST|TRSTRESN|TRSTRESU|TRMETHOD|VISITNUM|VISIT|     TRDTC| id|          collect|       collect_dates|  collect_numbers|\n",
      "+----------+-----+-------+--------+----------------+--------+--------+--------+--------+-----+----------+---+-----------------+--------------------+-----------------+\n",
      "|ISPY1_1001|    1|    T01|   LDIAM|Longest Diameter|      88|      mm|     MRI|       1|  MR1|1984-10-13|  1|    1 | 2 | 3 | 4|[1984-10-13, 1984...| [88, 78, 30, 14]|\n",
      "|ISPY1_1001|    2|    T01|   LDIAM|Longest Diameter|      78|      mm|     MRI|       2|  MR2|1984-11-08|  3|    1 | 2 | 3 | 4|[1984-10-13, 1984...| [88, 78, 30, 14]|\n",
      "|ISPY1_1001|    3|    T01|   LDIAM|Longest Diameter|      30|      mm|     MRI|       3|  MR3|1985-01-10| 10|    1 | 2 | 3 | 4|[1984-10-13, 1984...| [88, 78, 30, 14]|\n",
      "|ISPY1_1001|    4|    T01|   LDIAM|Longest Diameter|      14|      mm|     MRI|       4|  MR4|1985-04-13| 27|    1 | 2 | 3 | 4|[1984-10-13, 1984...| [88, 78, 30, 14]|\n",
      "|ISPY1_1002|    5|    T01|   LDIAM|Longest Diameter|      29|      mm|     MRI|       1|  MR1|1984-11-02|  2|    5 | 6 | 7 | 8|[1984-11-02, 1984...| [29, 26, 66, 16]|\n",
      "|ISPY1_1002|    6|    T01|   LDIAM|Longest Diameter|      26|      mm|     MRI|       2|  MR2|1984-11-30|  5|    5 | 6 | 7 | 8|[1984-11-02, 1984...| [29, 26, 66, 16]|\n",
      "|ISPY1_1002|    7|    T01|   LDIAM|Longest Diameter|      66|      mm|     MRI|       3|  MR3|1985-02-06| 13|    5 | 6 | 7 | 8|[1984-11-02, 1984...| [29, 26, 66, 16]|\n",
      "|ISPY1_1002|    8|    T01|   LDIAM|Longest Diameter|      16|      mm|     MRI|       4|  MR4|1985-05-09| 34|    5 | 6 | 7 | 8|[1984-11-02, 1984...| [29, 26, 66, 16]|\n",
      "|ISPY1_1003|    9|    T01|   LDIAM|Longest Diameter|      50|      mm|     MRI|       1|  MR1|1984-11-22|  4| 9 | 10 | 11 | 12|[1984-11-22, 1984...| [50, 64, 54, 46]|\n",
      "|ISPY1_1003|   10|    T01|   LDIAM|Longest Diameter|      64|      mm|     MRI|       2|  MR2|1984-12-13|  7| 9 | 10 | 11 | 12|[1984-11-22, 1984...| [50, 64, 54, 46]|\n",
      "|ISPY1_1003|   11|    T01|   LDIAM|Longest Diameter|      54|      mm|     MRI|       3|  MR3|1985-02-08| 14| 9 | 10 | 11 | 12|[1984-11-22, 1984...| [50, 64, 54, 46]|\n",
      "|ISPY1_1003|   12|    T01|   LDIAM|Longest Diameter|      46|      mm|     MRI|       4|  MR4|1985-05-09| 35| 9 | 10 | 11 | 12|[1984-11-22, 1984...| [50, 64, 54, 46]|\n",
      "|ISPY1_1004|   13|    T01|   LDIAM|Longest Diameter|      91|      mm|     MRI|       1|  MR1|1984-12-05|  6|13 | 14 | 15 | 16|[1984-12-05, 1984...| [91, 90, 99, 43]|\n",
      "|ISPY1_1004|   14|    T01|   LDIAM|Longest Diameter|      90|      mm|     MRI|       2|  MR2|1984-12-20|  8|13 | 14 | 15 | 16|[1984-12-05, 1984...| [91, 90, 99, 43]|\n",
      "|ISPY1_1004|   15|    T01|   LDIAM|Longest Diameter|      99|      mm|     MRI|       3|  MR3|1985-01-12| 12|13 | 14 | 15 | 16|[1984-12-05, 1984...| [91, 90, 99, 43]|\n",
      "|ISPY1_1004|   16|    T01|   LDIAM|Longest Diameter|      43|      mm|     MRI|       4|  MR4|1985-03-21| 21|13 | 14 | 15 | 16|[1984-12-05, 1984...| [91, 90, 99, 43]|\n",
      "|ISPY1_1005|   17|    T01|   LDIAM|Longest Diameter|      98|      mm|     MRI|       1|  MR1|1984-12-23|  9|17 | 18 | 19 | 20|[1984-12-23, 1985...|[98, 109, 60, 42]|\n",
      "|ISPY1_1005|   18|    T01|   LDIAM|Longest Diameter|     109|      mm|     MRI|       2|  MR2|1985-01-11| 11|17 | 18 | 19 | 20|[1984-12-23, 1985...|[98, 109, 60, 42]|\n",
      "|ISPY1_1005|   19|    T01|   LDIAM|Longest Diameter|      60|      mm|     MRI|       3|  MR3|1985-03-18| 20|17 | 18 | 19 | 20|[1984-12-23, 1985...|[98, 109, 60, 42]|\n",
      "|ISPY1_1005|   20|    T01|   LDIAM|Longest Diameter|      42|      mm|     MRI|       4|  MR4|1985-06-07| 46|17 | 18 | 19 | 20|[1984-12-23, 1985...|[98, 109, 60, 42]|\n",
      "+----------+-----+-------+--------+----------------+--------+--------+--------+--------+-----+----------+---+-----------------+--------------------+-----------------+\n",
      "only showing top 20 rows\n"
     ]
    }
   ],
   "source": [
    "df.orderBy(\"USUBJID\",\"TRDTC\").show()"
   ]
  },
  {
   "cell_type": "code",
   "execution_count": 69,
   "id": "1f9f75f5-69f8-4984-9a15-26ff32304951",
   "metadata": {},
   "outputs": [],
   "source": [
    "df = df.drop(\"TRLNKID\",\"TRDTC\")"
   ]
  },
  {
   "cell_type": "code",
   "execution_count": 70,
   "id": "96da28f7-3580-49c5-b49d-1173494bd4f6",
   "metadata": {},
   "outputs": [
    {
     "name": "stdout",
     "output_type": "stream",
     "text": [
      "+----------+-----+--------+----------------+--------+--------+--------+--------+-----+---+-----------------+--------------------+-----------------+\n",
      "|   USUBJID|TRSEQ|TRTESTCD|          TRTEST|TRSTRESN|TRSTRESU|TRMETHOD|VISITNUM|VISIT| id|          collect|       collect_dates|  collect_numbers|\n",
      "+----------+-----+--------+----------------+--------+--------+--------+--------+-----+---+-----------------+--------------------+-----------------+\n",
      "|ISPY1_1001|    1|   LDIAM|Longest Diameter|      88|      mm|     MRI|       1|  MR1|  1|    1 | 2 | 3 | 4|[1984-10-13, 1984...| [88, 78, 30, 14]|\n",
      "|ISPY1_1001|    2|   LDIAM|Longest Diameter|      78|      mm|     MRI|       2|  MR2|  3|    1 | 2 | 3 | 4|[1984-10-13, 1984...| [88, 78, 30, 14]|\n",
      "|ISPY1_1001|    3|   LDIAM|Longest Diameter|      30|      mm|     MRI|       3|  MR3| 10|    1 | 2 | 3 | 4|[1984-10-13, 1984...| [88, 78, 30, 14]|\n",
      "|ISPY1_1001|    4|   LDIAM|Longest Diameter|      14|      mm|     MRI|       4|  MR4| 27|    1 | 2 | 3 | 4|[1984-10-13, 1984...| [88, 78, 30, 14]|\n",
      "|ISPY1_1002|    5|   LDIAM|Longest Diameter|      29|      mm|     MRI|       1|  MR1|  2|    5 | 6 | 7 | 8|[1984-11-02, 1984...| [29, 26, 66, 16]|\n",
      "|ISPY1_1002|    6|   LDIAM|Longest Diameter|      26|      mm|     MRI|       2|  MR2|  5|    5 | 6 | 7 | 8|[1984-11-02, 1984...| [29, 26, 66, 16]|\n",
      "|ISPY1_1002|    7|   LDIAM|Longest Diameter|      66|      mm|     MRI|       3|  MR3| 13|    5 | 6 | 7 | 8|[1984-11-02, 1984...| [29, 26, 66, 16]|\n",
      "|ISPY1_1002|    8|   LDIAM|Longest Diameter|      16|      mm|     MRI|       4|  MR4| 34|    5 | 6 | 7 | 8|[1984-11-02, 1984...| [29, 26, 66, 16]|\n",
      "|ISPY1_1003|    9|   LDIAM|Longest Diameter|      50|      mm|     MRI|       1|  MR1|  4| 9 | 10 | 11 | 12|[1984-11-22, 1984...| [50, 64, 54, 46]|\n",
      "|ISPY1_1003|   10|   LDIAM|Longest Diameter|      64|      mm|     MRI|       2|  MR2|  7| 9 | 10 | 11 | 12|[1984-11-22, 1984...| [50, 64, 54, 46]|\n",
      "|ISPY1_1003|   11|   LDIAM|Longest Diameter|      54|      mm|     MRI|       3|  MR3| 14| 9 | 10 | 11 | 12|[1984-11-22, 1984...| [50, 64, 54, 46]|\n",
      "|ISPY1_1003|   12|   LDIAM|Longest Diameter|      46|      mm|     MRI|       4|  MR4| 35| 9 | 10 | 11 | 12|[1984-11-22, 1984...| [50, 64, 54, 46]|\n",
      "|ISPY1_1004|   13|   LDIAM|Longest Diameter|      91|      mm|     MRI|       1|  MR1|  6|13 | 14 | 15 | 16|[1984-12-05, 1984...| [91, 90, 99, 43]|\n",
      "|ISPY1_1004|   14|   LDIAM|Longest Diameter|      90|      mm|     MRI|       2|  MR2|  8|13 | 14 | 15 | 16|[1984-12-05, 1984...| [91, 90, 99, 43]|\n",
      "|ISPY1_1004|   15|   LDIAM|Longest Diameter|      99|      mm|     MRI|       3|  MR3| 12|13 | 14 | 15 | 16|[1984-12-05, 1984...| [91, 90, 99, 43]|\n",
      "|ISPY1_1004|   16|   LDIAM|Longest Diameter|      43|      mm|     MRI|       4|  MR4| 21|13 | 14 | 15 | 16|[1984-12-05, 1984...| [91, 90, 99, 43]|\n",
      "|ISPY1_1005|   17|   LDIAM|Longest Diameter|      98|      mm|     MRI|       1|  MR1|  9|17 | 18 | 19 | 20|[1984-12-23, 1985...|[98, 109, 60, 42]|\n",
      "|ISPY1_1005|   18|   LDIAM|Longest Diameter|     109|      mm|     MRI|       2|  MR2| 11|17 | 18 | 19 | 20|[1984-12-23, 1985...|[98, 109, 60, 42]|\n",
      "|ISPY1_1005|   19|   LDIAM|Longest Diameter|      60|      mm|     MRI|       3|  MR3| 20|17 | 18 | 19 | 20|[1984-12-23, 1985...|[98, 109, 60, 42]|\n",
      "|ISPY1_1005|   20|   LDIAM|Longest Diameter|      42|      mm|     MRI|       4|  MR4| 46|17 | 18 | 19 | 20|[1984-12-23, 1985...|[98, 109, 60, 42]|\n",
      "+----------+-----+--------+----------------+--------+--------+--------+--------+-----+---+-----------------+--------------------+-----------------+\n",
      "only showing top 20 rows\n"
     ]
    }
   ],
   "source": [
    "df.show()"
   ]
  }
 ],
 "metadata": {
  "kernelspec": {
   "display_name": "Python [conda env:base] *",
   "language": "python",
   "name": "conda-base-py"
  },
  "language_info": {
   "codemirror_mode": {
    "name": "ipython",
    "version": 3
   },
   "file_extension": ".py",
   "mimetype": "text/x-python",
   "name": "python",
   "nbconvert_exporter": "python",
   "pygments_lexer": "ipython3",
   "version": "3.12.2"
  }
 },
 "nbformat": 4,
 "nbformat_minor": 5
}
