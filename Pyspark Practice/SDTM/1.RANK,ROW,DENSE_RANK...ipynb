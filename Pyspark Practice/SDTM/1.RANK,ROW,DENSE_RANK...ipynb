{
 "cells": [
  {
   "cell_type": "code",
   "execution_count": 1,
   "id": "d9454e91-3b65-4c7e-a89e-a710610f1405",
   "metadata": {},
   "outputs": [],
   "source": [
    "#!pip install pyspark"
   ]
  },
  {
   "cell_type": "code",
   "execution_count": 2,
   "id": "a96c8fd7-d92d-4ae9-a2c1-0346ce673c5d",
   "metadata": {},
   "outputs": [],
   "source": [
    "from pyspark.sql import SparkSession\n",
    "from pyspark.sql.functions import col, lit, contains, when, sum, avg, round,max, row_number, desc\n",
    "from pyspark.sql.window import Window\n",
    "from pyspark.sql.types import IntegerType"
   ]
  },
  {
   "cell_type": "code",
   "execution_count": 3,
   "id": "4e29954f-e997-42a6-9786-fe530aa3e293",
   "metadata": {},
   "outputs": [
    {
     "name": "stderr",
     "output_type": "stream",
     "text": [
      "WARNING: Using incubator modules: jdk.incubator.vector\n",
      "Using Spark's default log4j profile: org/apache/spark/log4j2-defaults.properties\n",
      "25/06/03 18:48:22 WARN Utils: Your hostname, Benjamins-MacBook-Air.local, resolves to a loopback address: 127.0.0.1; using 192.168.1.35 instead (on interface en0)\n",
      "25/06/03 18:48:22 WARN Utils: Set SPARK_LOCAL_IP if you need to bind to another address\n",
      "Using Spark's default log4j profile: org/apache/spark/log4j2-defaults.properties\n",
      "Setting default log level to \"WARN\".\n",
      "To adjust logging level use sc.setLogLevel(newLevel). For SparkR, use setLogLevel(newLevel).\n",
      "25/06/03 18:48:23 WARN NativeCodeLoader: Unable to load native-hadoop library for your platform... using builtin-java classes where applicable\n"
     ]
    }
   ],
   "source": [
    "spark = SparkSession.builder.appName(\"ExtractNestedData\").getOrCreate()"
   ]
  },
  {
   "cell_type": "code",
   "execution_count": 117,
   "id": "11761ec6-2e65-4098-a9e1-c4239f251551",
   "metadata": {},
   "outputs": [
    {
     "name": "stdout",
     "output_type": "stream",
     "text": [
      "+---+----------------+------+----------------+-----+--------------------+-------+-------+------+----------+\n",
      "|_c0|         STUDYID|DOMAIN|         USUBJID|PRSEQ|               PRTRT|PRDECOD|  PRCAT|PRSCAT|   PRSTDTC|\n",
      "+---+----------------+------+----------------+-----+--------------------+-------+-------+------+----------+\n",
      "|  1|Breast Diagnosis|    PR|BreastDx-01-0001|    1|MRI Breast Bilate...|36277-2|IMAGING|    MR|2008-08-12|\n",
      "|  2|Breast Diagnosis|    PR|BreastDx-01-0002|    1|MRI BREAST, BILAT...|36277-2|IMAGING|    MR|2008-11-25|\n",
      "|  3|Breast Diagnosis|    PR|BreastDx-01-0002|    2|PET SKULL-THIGH P...|46305-9|IMAGING|    CT|2008-11-29|\n",
      "|  4|Breast Diagnosis|    PR|BreastDx-01-0002|    3|PET SKULL-THIGH P...|44139-4|IMAGING|    PT|2008-11-29|\n",
      "|  5|Breast Diagnosis|    PR|BreastDx-01-0002|    4|PET SKULL-THIGH P...|46305-9|IMAGING|    CT|2008-11-29|\n",
      "|  6|Breast Diagnosis|    PR|BreastDx-01-0002|    5|PET SKULL-THIGH P...|44139-4|IMAGING|    PT|2008-11-29|\n",
      "|  7|Breast Diagnosis|    PR|BreastDx-01-0002|    6|PET SKULL-THIGH P...|44139-4|IMAGING|    PT|2008-11-29|\n",
      "|  8|Breast Diagnosis|    PR|BreastDx-01-0002|    7|PET SKULL-THIGH P...|46305-9|IMAGING|    CT|2008-11-29|\n",
      "|  9|Breast Diagnosis|    PR|BreastDx-01-0002|    8|MA SURGICAL SPECIMEN|46342-2|IMAGING|    MG|2008-12-13|\n",
      "| 10|Breast Diagnosis|    PR|BreastDx-01-0003|    1|Digital Diagnosti...|36626-0|IMAGING|    MG|2008-04-12|\n",
      "| 11|Breast Diagnosis|    PR|BreastDx-01-0003|    2|MRI Breast Bilate...|36277-2|IMAGING|    MR|2008-04-19|\n",
      "| 12|Breast Diagnosis|    PR|BreastDx-01-0003|    3|Digital Left Mamm...|36627-8|IMAGING|    MG|2008-04-22|\n",
      "| 13|Breast Diagnosis|    PR|BreastDx-01-0003|    4|MA SURGICAL SPECIMEN|46342-2|IMAGING|    MG|2008-05-24|\n",
      "| 14|Breast Diagnosis|    PR|BreastDx-01-0004|    1|MRI Breast Bilate...|36277-2|IMAGING|    MR|2007-08-11|\n",
      "| 15|Breast Diagnosis|    PR|BreastDx-01-0004|    2|MRI Left Breast w...|36278-0|IMAGING|    MR|2008-04-11|\n",
      "| 16|Breast Diagnosis|    PR|BreastDx-01-0005|    1|MRI BREAST, BILAT...|36277-2|IMAGING|    MR|2008-06-24|\n",
      "| 17|Breast Diagnosis|    PR|BreastDx-01-0005|    2|PET CT TUMOR, WHO...|44139-4|IMAGING|    PT|2008-08-01|\n",
      "| 18|Breast Diagnosis|    PR|BreastDx-01-0005|    3|PET CT TUMOR, WHO...|46305-9|IMAGING|    CT|2008-08-01|\n",
      "| 19|Breast Diagnosis|    PR|BreastDx-01-0005|    4|PET CT TUMOR, WHO...|46305-9|IMAGING|    CT|2008-08-01|\n",
      "| 20|Breast Diagnosis|    PR|BreastDx-01-0005|    5|PET CT TUMOR, WHO...|46305-9|IMAGING|    CT|2008-08-01|\n",
      "+---+----------------+------+----------------+-----+--------------------+-------+-------+------+----------+\n",
      "only showing top 20 rows\n"
     ]
    },
    {
     "name": "stderr",
     "output_type": "stream",
     "text": [
      "25/06/03 19:52:54 WARN CSVHeaderChecker: CSV header does not conform to the schema.\n",
      " Header: , STUDYID, DOMAIN, USUBJID, PRSEQ, PRTRT, PRDECOD, PRCAT, PRSCAT, PRSTDTC\n",
      " Schema: _c0, STUDYID, DOMAIN, USUBJID, PRSEQ, PRTRT, PRDECOD, PRCAT, PRSCAT, PRSTDTC\n",
      "Expected: _c0 but found: \n",
      "CSV file: file:///Users/benjaminbrooke/Downloads/dicubed_sdtm_csv_2019-05-30/pr.csv\n"
     ]
    }
   ],
   "source": [
    "df = spark.read.csv(\"Downloads/dicubed_sdtm_csv_2019-05-30/pr.csv\",header = True)\n",
    "df.show()"
   ]
  },
  {
   "cell_type": "code",
   "execution_count": 9,
   "id": "2b649d54-0c62-495f-abb3-a0a21733f828",
   "metadata": {},
   "outputs": [
    {
     "data": {
      "text/plain": [
       "1670"
      ]
     },
     "execution_count": 9,
     "metadata": {},
     "output_type": "execute_result"
    }
   ],
   "source": [
    "df.count()"
   ]
  },
  {
   "cell_type": "code",
   "execution_count": 10,
   "id": "2204b98d-7ac7-4ca8-946e-010c73a52cc0",
   "metadata": {},
   "outputs": [
    {
     "data": {
      "text/plain": [
       "['_c0',\n",
       " 'STUDYID',\n",
       " 'DOMAIN',\n",
       " 'USUBJID',\n",
       " 'PRSEQ',\n",
       " 'PRTRT',\n",
       " 'PRDECOD',\n",
       " 'PRCAT',\n",
       " 'PRSCAT',\n",
       " 'PRSTDTC']"
      ]
     },
     "execution_count": 10,
     "metadata": {},
     "output_type": "execute_result"
    }
   ],
   "source": [
    "df.columns"
   ]
  },
  {
   "cell_type": "code",
   "execution_count": 20,
   "id": "8d65c032-e569-4454-8ae0-8d1c3e5623ac",
   "metadata": {},
   "outputs": [
    {
     "name": "stdout",
     "output_type": "stream",
     "text": [
      "+-------+\n",
      "|  PRCAT|\n",
      "+-------+\n",
      "|IMAGING|\n",
      "+-------+\n",
      "\n"
     ]
    }
   ],
   "source": [
    "cat = df.select(col(\"PRCAT\"))\n",
    "cat.distinct().show()"
   ]
  },
  {
   "cell_type": "code",
   "execution_count": 21,
   "id": "1a7eec7c-53a9-4ed0-8e22-36491cb63523",
   "metadata": {},
   "outputs": [],
   "source": [
    "import pandas as pd"
   ]
  },
  {
   "cell_type": "code",
   "execution_count": 24,
   "id": "38c9a0b3-e99b-45a4-9cc6-dc51cafc4824",
   "metadata": {},
   "outputs": [
    {
     "name": "stdout",
     "output_type": "stream",
     "text": [
      "+---+----------------+------+----------------+-----+--------------------+-------+-------+------+----------+\n",
      "|_c0|         STUDYID|DOMAIN|         USUBJID|PRSEQ|               PRTRT|PRDECOD|  PRCAT|PRSCAT|   PRSTDTC|\n",
      "+---+----------------+------+----------------+-----+--------------------+-------+-------+------+----------+\n",
      "|  3|Breast Diagnosis|    PR|BreastDx-01-0002|    2|PET SKULL-THIGH P...|46305-9|IMAGING|    CT|2008-11-29|\n",
      "|  5|Breast Diagnosis|    PR|BreastDx-01-0002|    4|PET SKULL-THIGH P...|46305-9|IMAGING|    CT|2008-11-29|\n",
      "|  8|Breast Diagnosis|    PR|BreastDx-01-0002|    7|PET SKULL-THIGH P...|46305-9|IMAGING|    CT|2008-11-29|\n",
      "| 18|Breast Diagnosis|    PR|BreastDx-01-0005|    3|PET CT TUMOR, WHO...|46305-9|IMAGING|    CT|2008-08-01|\n",
      "| 19|Breast Diagnosis|    PR|BreastDx-01-0005|    4|PET CT TUMOR, WHO...|46305-9|IMAGING|    CT|2008-08-01|\n",
      "| 20|Breast Diagnosis|    PR|BreastDx-01-0005|    5|PET CT TUMOR, WHO...|46305-9|IMAGING|    CT|2008-08-01|\n",
      "| 26|Breast Diagnosis|    PR|BreastDx-01-0005|   11|PET SKULL-THIGH P...|46305-9|IMAGING|    CT|2008-11-15|\n",
      "| 27|Breast Diagnosis|    PR|BreastDx-01-0005|   12|PET SKULL-THIGH P...|46305-9|IMAGING|    CT|2008-11-15|\n",
      "| 29|Breast Diagnosis|    PR|BreastDx-01-0005|   14|PET SKULL-THIGH P...|46305-9|IMAGING|    CT|2008-11-15|\n",
      "+---+----------------+------+----------------+-----+--------------------+-------+-------+------+----------+\n",
      "\n"
     ]
    },
    {
     "name": "stderr",
     "output_type": "stream",
     "text": [
      "25/06/03 19:02:36 WARN CSVHeaderChecker: CSV header does not conform to the schema.\n",
      " Header: , STUDYID, DOMAIN, USUBJID, PRSEQ, PRTRT, PRDECOD, PRCAT, PRSCAT, PRSTDTC\n",
      " Schema: _c0, STUDYID, DOMAIN, USUBJID, PRSEQ, PRTRT, PRDECOD, PRCAT, PRSCAT, PRSTDTC\n",
      "Expected: _c0 but found: \n",
      "CSV file: file:///Users/benjaminbrooke/Downloads/dicubed_sdtm_csv_2019-05-30/pr.csv\n"
     ]
    }
   ],
   "source": [
    "df.filter(col(\"PRSCAT\") == \"CT\").show()"
   ]
  },
  {
   "cell_type": "code",
   "execution_count": 28,
   "id": "fa7b4072-a7e2-4e71-9251-4e3bf506b274",
   "metadata": {},
   "outputs": [
    {
     "name": "stdout",
     "output_type": "stream",
     "text": [
      "+---+----------------+------+----------------+-----+--------------------+-------+-------+------+----------+\n",
      "|_c0|         STUDYID|DOMAIN|         USUBJID|PRSEQ|               PRTRT|PRDECOD|  PRCAT|PRSCAT|   PRSTDTC|\n",
      "+---+----------------+------+----------------+-----+--------------------+-------+-------+------+----------+\n",
      "|  3|Breast Diagnosis|    PR|BreastDx-01-0002|    2|PET SKULL-THIGH P...|46305-9|IMAGING|    CT|2008-11-29|\n",
      "|  5|Breast Diagnosis|    PR|BreastDx-01-0002|    4|PET SKULL-THIGH P...|46305-9|IMAGING|    CT|2008-11-29|\n",
      "|  8|Breast Diagnosis|    PR|BreastDx-01-0002|    7|PET SKULL-THIGH P...|46305-9|IMAGING|    CT|2008-11-29|\n",
      "| 18|Breast Diagnosis|    PR|BreastDx-01-0005|    3|PET CT TUMOR, WHO...|46305-9|IMAGING|    CT|2008-08-01|\n",
      "| 19|Breast Diagnosis|    PR|BreastDx-01-0005|    4|PET CT TUMOR, WHO...|46305-9|IMAGING|    CT|2008-08-01|\n",
      "| 20|Breast Diagnosis|    PR|BreastDx-01-0005|    5|PET CT TUMOR, WHO...|46305-9|IMAGING|    CT|2008-08-01|\n",
      "| 26|Breast Diagnosis|    PR|BreastDx-01-0005|   11|PET SKULL-THIGH P...|46305-9|IMAGING|    CT|2008-11-15|\n",
      "| 27|Breast Diagnosis|    PR|BreastDx-01-0005|   12|PET SKULL-THIGH P...|46305-9|IMAGING|    CT|2008-11-15|\n",
      "| 29|Breast Diagnosis|    PR|BreastDx-01-0005|   14|PET SKULL-THIGH P...|46305-9|IMAGING|    CT|2008-11-15|\n",
      "+---+----------------+------+----------------+-----+--------------------+-------+-------+------+----------+\n",
      "\n"
     ]
    },
    {
     "name": "stderr",
     "output_type": "stream",
     "text": [
      "25/06/03 19:03:31 WARN CSVHeaderChecker: CSV header does not conform to the schema.\n",
      " Header: , STUDYID, DOMAIN, USUBJID, PRSEQ, PRTRT, PRDECOD, PRCAT, PRSCAT, PRSTDTC\n",
      " Schema: _c0, STUDYID, DOMAIN, USUBJID, PRSEQ, PRTRT, PRDECOD, PRCAT, PRSCAT, PRSTDTC\n",
      "Expected: _c0 but found: \n",
      "CSV file: file:///Users/benjaminbrooke/Downloads/dicubed_sdtm_csv_2019-05-30/pr.csv\n"
     ]
    }
   ],
   "source": [
    "df[df[\"PRSCAT\"] == \"CT\"].show() #PD"
   ]
  },
  {
   "cell_type": "code",
   "execution_count": 33,
   "id": "465496bf-1791-417d-98fd-4ba389854c77",
   "metadata": {},
   "outputs": [],
   "source": [
    "from pyspark.sql.functions import rank, row_number,dense_rank"
   ]
  },
  {
   "cell_type": "code",
   "execution_count": 43,
   "id": "8c0f3f79-5821-4d1c-a920-6e8234ab3fe2",
   "metadata": {},
   "outputs": [],
   "source": [
    "dense_rank_df = df.withColumn(\"rank_over_subject_PRSCAT\",dense_rank().over(Window.partitionBy(\"USUBJID\",\"PRSCAT\").orderBy(\"PRSTDTC\")))"
   ]
  },
  {
   "cell_type": "code",
   "execution_count": 44,
   "id": "dc8d39ac-d763-41a0-abf5-ddc517670362",
   "metadata": {},
   "outputs": [
    {
     "name": "stderr",
     "output_type": "stream",
     "text": [
      "25/06/03 19:08:20 WARN CSVHeaderChecker: CSV header does not conform to the schema.\n",
      " Header: , STUDYID, DOMAIN, USUBJID, PRSEQ, PRTRT, PRDECOD, PRCAT, PRSCAT, PRSTDTC\n",
      " Schema: _c0, STUDYID, DOMAIN, USUBJID, PRSEQ, PRTRT, PRDECOD, PRCAT, PRSCAT, PRSTDTC\n",
      "Expected: _c0 but found: \n",
      "CSV file: file:///Users/benjaminbrooke/Downloads/dicubed_sdtm_csv_2019-05-30/pr.csv\n"
     ]
    },
    {
     "name": "stdout",
     "output_type": "stream",
     "text": [
      "+---+----------------+------+----------------+-----+--------------------+-------+-------+------+----------+------------------------+\n",
      "|_c0|         STUDYID|DOMAIN|         USUBJID|PRSEQ|               PRTRT|PRDECOD|  PRCAT|PRSCAT|   PRSTDTC|rank_over_subject_PRSCAT|\n",
      "+---+----------------+------+----------------+-----+--------------------+-------+-------+------+----------+------------------------+\n",
      "|  1|Breast Diagnosis|    PR|BreastDx-01-0001|    1|MRI Breast Bilate...|36277-2|IMAGING|    MR|2008-08-12|                       1|\n",
      "|  3|Breast Diagnosis|    PR|BreastDx-01-0002|    2|PET SKULL-THIGH P...|46305-9|IMAGING|    CT|2008-11-29|                       1|\n",
      "|  5|Breast Diagnosis|    PR|BreastDx-01-0002|    4|PET SKULL-THIGH P...|46305-9|IMAGING|    CT|2008-11-29|                       1|\n",
      "|  8|Breast Diagnosis|    PR|BreastDx-01-0002|    7|PET SKULL-THIGH P...|46305-9|IMAGING|    CT|2008-11-29|                       1|\n",
      "|  9|Breast Diagnosis|    PR|BreastDx-01-0002|    8|MA SURGICAL SPECIMEN|46342-2|IMAGING|    MG|2008-12-13|                       1|\n",
      "|  2|Breast Diagnosis|    PR|BreastDx-01-0002|    1|MRI BREAST, BILAT...|36277-2|IMAGING|    MR|2008-11-25|                       1|\n",
      "|  4|Breast Diagnosis|    PR|BreastDx-01-0002|    3|PET SKULL-THIGH P...|44139-4|IMAGING|    PT|2008-11-29|                       1|\n",
      "|  6|Breast Diagnosis|    PR|BreastDx-01-0002|    5|PET SKULL-THIGH P...|44139-4|IMAGING|    PT|2008-11-29|                       1|\n",
      "|  7|Breast Diagnosis|    PR|BreastDx-01-0002|    6|PET SKULL-THIGH P...|44139-4|IMAGING|    PT|2008-11-29|                       1|\n",
      "| 10|Breast Diagnosis|    PR|BreastDx-01-0003|    1|Digital Diagnosti...|36626-0|IMAGING|    MG|2008-04-12|                       1|\n",
      "| 12|Breast Diagnosis|    PR|BreastDx-01-0003|    3|Digital Left Mamm...|36627-8|IMAGING|    MG|2008-04-22|                       2|\n",
      "| 13|Breast Diagnosis|    PR|BreastDx-01-0003|    4|MA SURGICAL SPECIMEN|46342-2|IMAGING|    MG|2008-05-24|                       3|\n",
      "| 11|Breast Diagnosis|    PR|BreastDx-01-0003|    2|MRI Breast Bilate...|36277-2|IMAGING|    MR|2008-04-19|                       1|\n",
      "| 14|Breast Diagnosis|    PR|BreastDx-01-0004|    1|MRI Breast Bilate...|36277-2|IMAGING|    MR|2007-08-11|                       1|\n",
      "| 15|Breast Diagnosis|    PR|BreastDx-01-0004|    2|MRI Left Breast w...|36278-0|IMAGING|    MR|2008-04-11|                       2|\n",
      "| 18|Breast Diagnosis|    PR|BreastDx-01-0005|    3|PET CT TUMOR, WHO...|46305-9|IMAGING|    CT|2008-08-01|                       1|\n",
      "| 19|Breast Diagnosis|    PR|BreastDx-01-0005|    4|PET CT TUMOR, WHO...|46305-9|IMAGING|    CT|2008-08-01|                       1|\n",
      "| 20|Breast Diagnosis|    PR|BreastDx-01-0005|    5|PET CT TUMOR, WHO...|46305-9|IMAGING|    CT|2008-08-01|                       1|\n",
      "| 26|Breast Diagnosis|    PR|BreastDx-01-0005|   11|PET SKULL-THIGH P...|46305-9|IMAGING|    CT|2008-11-15|                       2|\n",
      "| 27|Breast Diagnosis|    PR|BreastDx-01-0005|   12|PET SKULL-THIGH P...|46305-9|IMAGING|    CT|2008-11-15|                       2|\n",
      "+---+----------------+------+----------------+-----+--------------------+-------+-------+------+----------+------------------------+\n",
      "only showing top 20 rows\n"
     ]
    }
   ],
   "source": [
    "dense_rank_df.show()"
   ]
  },
  {
   "cell_type": "code",
   "execution_count": 52,
   "id": "9c9e0ed8-5e9a-4fc8-bdb5-b8b0b5910b0e",
   "metadata": {},
   "outputs": [],
   "source": [
    "dense_rank_CT_df = df.withColumn(\"rank_over_subject_PRSCAT\",when(col(\"PRSCAT\") == \"CT\",\n",
    "                                                              dense_rank()\n",
    "                                                              .over(Window.partitionBy(\"USUBJID\",\"PRSCAT\").orderBy(\"PRSTDTC\"))).otherwise(0))"
   ]
  },
  {
   "cell_type": "code",
   "execution_count": 53,
   "id": "ab829b2e-3bf6-42e6-9aa6-b25d0362b885",
   "metadata": {},
   "outputs": [
    {
     "name": "stdout",
     "output_type": "stream",
     "text": [
      "+---+----------------+------+----------------+-----+--------------------+-------+-------+------+----------+------------------------+\n",
      "|_c0|         STUDYID|DOMAIN|         USUBJID|PRSEQ|               PRTRT|PRDECOD|  PRCAT|PRSCAT|   PRSTDTC|rank_over_subject_PRSCAT|\n",
      "+---+----------------+------+----------------+-----+--------------------+-------+-------+------+----------+------------------------+\n",
      "|  1|Breast Diagnosis|    PR|BreastDx-01-0001|    1|MRI Breast Bilate...|36277-2|IMAGING|    MR|2008-08-12|                       0|\n",
      "|  3|Breast Diagnosis|    PR|BreastDx-01-0002|    2|PET SKULL-THIGH P...|46305-9|IMAGING|    CT|2008-11-29|                       1|\n",
      "|  5|Breast Diagnosis|    PR|BreastDx-01-0002|    4|PET SKULL-THIGH P...|46305-9|IMAGING|    CT|2008-11-29|                       1|\n",
      "|  8|Breast Diagnosis|    PR|BreastDx-01-0002|    7|PET SKULL-THIGH P...|46305-9|IMAGING|    CT|2008-11-29|                       1|\n",
      "|  9|Breast Diagnosis|    PR|BreastDx-01-0002|    8|MA SURGICAL SPECIMEN|46342-2|IMAGING|    MG|2008-12-13|                       0|\n",
      "|  2|Breast Diagnosis|    PR|BreastDx-01-0002|    1|MRI BREAST, BILAT...|36277-2|IMAGING|    MR|2008-11-25|                       0|\n",
      "|  4|Breast Diagnosis|    PR|BreastDx-01-0002|    3|PET SKULL-THIGH P...|44139-4|IMAGING|    PT|2008-11-29|                       0|\n",
      "|  6|Breast Diagnosis|    PR|BreastDx-01-0002|    5|PET SKULL-THIGH P...|44139-4|IMAGING|    PT|2008-11-29|                       0|\n",
      "|  7|Breast Diagnosis|    PR|BreastDx-01-0002|    6|PET SKULL-THIGH P...|44139-4|IMAGING|    PT|2008-11-29|                       0|\n",
      "| 10|Breast Diagnosis|    PR|BreastDx-01-0003|    1|Digital Diagnosti...|36626-0|IMAGING|    MG|2008-04-12|                       0|\n",
      "| 12|Breast Diagnosis|    PR|BreastDx-01-0003|    3|Digital Left Mamm...|36627-8|IMAGING|    MG|2008-04-22|                       0|\n",
      "| 13|Breast Diagnosis|    PR|BreastDx-01-0003|    4|MA SURGICAL SPECIMEN|46342-2|IMAGING|    MG|2008-05-24|                       0|\n",
      "| 11|Breast Diagnosis|    PR|BreastDx-01-0003|    2|MRI Breast Bilate...|36277-2|IMAGING|    MR|2008-04-19|                       0|\n",
      "| 14|Breast Diagnosis|    PR|BreastDx-01-0004|    1|MRI Breast Bilate...|36277-2|IMAGING|    MR|2007-08-11|                       0|\n",
      "| 15|Breast Diagnosis|    PR|BreastDx-01-0004|    2|MRI Left Breast w...|36278-0|IMAGING|    MR|2008-04-11|                       0|\n",
      "| 18|Breast Diagnosis|    PR|BreastDx-01-0005|    3|PET CT TUMOR, WHO...|46305-9|IMAGING|    CT|2008-08-01|                       1|\n",
      "| 19|Breast Diagnosis|    PR|BreastDx-01-0005|    4|PET CT TUMOR, WHO...|46305-9|IMAGING|    CT|2008-08-01|                       1|\n",
      "| 20|Breast Diagnosis|    PR|BreastDx-01-0005|    5|PET CT TUMOR, WHO...|46305-9|IMAGING|    CT|2008-08-01|                       1|\n",
      "| 26|Breast Diagnosis|    PR|BreastDx-01-0005|   11|PET SKULL-THIGH P...|46305-9|IMAGING|    CT|2008-11-15|                       2|\n",
      "| 27|Breast Diagnosis|    PR|BreastDx-01-0005|   12|PET SKULL-THIGH P...|46305-9|IMAGING|    CT|2008-11-15|                       2|\n",
      "+---+----------------+------+----------------+-----+--------------------+-------+-------+------+----------+------------------------+\n",
      "only showing top 20 rows\n"
     ]
    },
    {
     "name": "stderr",
     "output_type": "stream",
     "text": [
      "25/06/03 19:13:38 WARN CSVHeaderChecker: CSV header does not conform to the schema.\n",
      " Header: , STUDYID, DOMAIN, USUBJID, PRSEQ, PRTRT, PRDECOD, PRCAT, PRSCAT, PRSTDTC\n",
      " Schema: _c0, STUDYID, DOMAIN, USUBJID, PRSEQ, PRTRT, PRDECOD, PRCAT, PRSCAT, PRSTDTC\n",
      "Expected: _c0 but found: \n",
      "CSV file: file:///Users/benjaminbrooke/Downloads/dicubed_sdtm_csv_2019-05-30/pr.csv\n"
     ]
    }
   ],
   "source": [
    "dense_rank_CT_df.show()"
   ]
  },
  {
   "cell_type": "code",
   "execution_count": 54,
   "id": "9ebfe303-5d66-47e1-a79c-7873679ee531",
   "metadata": {},
   "outputs": [],
   "source": [
    "dense_rank_CT_df_Subject = df.withColumn(\"rank_over_subject_PRSCAT\",when(col(\"PRSCAT\") == \"CT\",\n",
    "                                                              dense_rank()\n",
    "                                                              .over(Window.partitionBy(\"USUBJID\").orderBy(\"PRSTDTC\"))).otherwise(0))"
   ]
  },
  {
   "cell_type": "code",
   "execution_count": 55,
   "id": "c6472874-0d51-4ac2-8a8b-1e8d6b7db670",
   "metadata": {},
   "outputs": [
    {
     "name": "stdout",
     "output_type": "stream",
     "text": [
      "+---+----------------+------+----------------+-----+--------------------+-------+-------+------+----------+------------------------+\n",
      "|_c0|         STUDYID|DOMAIN|         USUBJID|PRSEQ|               PRTRT|PRDECOD|  PRCAT|PRSCAT|   PRSTDTC|rank_over_subject_PRSCAT|\n",
      "+---+----------------+------+----------------+-----+--------------------+-------+-------+------+----------+------------------------+\n",
      "|  1|Breast Diagnosis|    PR|BreastDx-01-0001|    1|MRI Breast Bilate...|36277-2|IMAGING|    MR|2008-08-12|                       0|\n",
      "|  2|Breast Diagnosis|    PR|BreastDx-01-0002|    1|MRI BREAST, BILAT...|36277-2|IMAGING|    MR|2008-11-25|                       0|\n",
      "|  3|Breast Diagnosis|    PR|BreastDx-01-0002|    2|PET SKULL-THIGH P...|46305-9|IMAGING|    CT|2008-11-29|                       2|\n",
      "|  4|Breast Diagnosis|    PR|BreastDx-01-0002|    3|PET SKULL-THIGH P...|44139-4|IMAGING|    PT|2008-11-29|                       0|\n",
      "|  5|Breast Diagnosis|    PR|BreastDx-01-0002|    4|PET SKULL-THIGH P...|46305-9|IMAGING|    CT|2008-11-29|                       2|\n",
      "|  6|Breast Diagnosis|    PR|BreastDx-01-0002|    5|PET SKULL-THIGH P...|44139-4|IMAGING|    PT|2008-11-29|                       0|\n",
      "|  7|Breast Diagnosis|    PR|BreastDx-01-0002|    6|PET SKULL-THIGH P...|44139-4|IMAGING|    PT|2008-11-29|                       0|\n",
      "|  8|Breast Diagnosis|    PR|BreastDx-01-0002|    7|PET SKULL-THIGH P...|46305-9|IMAGING|    CT|2008-11-29|                       2|\n",
      "|  9|Breast Diagnosis|    PR|BreastDx-01-0002|    8|MA SURGICAL SPECIMEN|46342-2|IMAGING|    MG|2008-12-13|                       0|\n",
      "| 10|Breast Diagnosis|    PR|BreastDx-01-0003|    1|Digital Diagnosti...|36626-0|IMAGING|    MG|2008-04-12|                       0|\n",
      "| 11|Breast Diagnosis|    PR|BreastDx-01-0003|    2|MRI Breast Bilate...|36277-2|IMAGING|    MR|2008-04-19|                       0|\n",
      "| 12|Breast Diagnosis|    PR|BreastDx-01-0003|    3|Digital Left Mamm...|36627-8|IMAGING|    MG|2008-04-22|                       0|\n",
      "| 13|Breast Diagnosis|    PR|BreastDx-01-0003|    4|MA SURGICAL SPECIMEN|46342-2|IMAGING|    MG|2008-05-24|                       0|\n",
      "| 14|Breast Diagnosis|    PR|BreastDx-01-0004|    1|MRI Breast Bilate...|36277-2|IMAGING|    MR|2007-08-11|                       0|\n",
      "| 15|Breast Diagnosis|    PR|BreastDx-01-0004|    2|MRI Left Breast w...|36278-0|IMAGING|    MR|2008-04-11|                       0|\n",
      "| 16|Breast Diagnosis|    PR|BreastDx-01-0005|    1|MRI BREAST, BILAT...|36277-2|IMAGING|    MR|2008-06-24|                       0|\n",
      "| 17|Breast Diagnosis|    PR|BreastDx-01-0005|    2|PET CT TUMOR, WHO...|44139-4|IMAGING|    PT|2008-08-01|                       0|\n",
      "| 18|Breast Diagnosis|    PR|BreastDx-01-0005|    3|PET CT TUMOR, WHO...|46305-9|IMAGING|    CT|2008-08-01|                       2|\n",
      "| 19|Breast Diagnosis|    PR|BreastDx-01-0005|    4|PET CT TUMOR, WHO...|46305-9|IMAGING|    CT|2008-08-01|                       2|\n",
      "| 20|Breast Diagnosis|    PR|BreastDx-01-0005|    5|PET CT TUMOR, WHO...|46305-9|IMAGING|    CT|2008-08-01|                       2|\n",
      "+---+----------------+------+----------------+-----+--------------------+-------+-------+------+----------+------------------------+\n",
      "only showing top 20 rows\n"
     ]
    },
    {
     "name": "stderr",
     "output_type": "stream",
     "text": [
      "25/06/03 19:14:39 WARN CSVHeaderChecker: CSV header does not conform to the schema.\n",
      " Header: , STUDYID, DOMAIN, USUBJID, PRSEQ, PRTRT, PRDECOD, PRCAT, PRSCAT, PRSTDTC\n",
      " Schema: _c0, STUDYID, DOMAIN, USUBJID, PRSEQ, PRTRT, PRDECOD, PRCAT, PRSCAT, PRSTDTC\n",
      "Expected: _c0 but found: \n",
      "CSV file: file:///Users/benjaminbrooke/Downloads/dicubed_sdtm_csv_2019-05-30/pr.csv\n"
     ]
    }
   ],
   "source": [
    "dense_rank_CT_df_Subject.show()"
   ]
  },
  {
   "cell_type": "code",
   "execution_count": 68,
   "id": "a43eabd7-0efe-42e5-97b2-3ae41284c427",
   "metadata": {},
   "outputs": [],
   "source": [
    "rank_CT_df = df.withColumn(\"rank_over_subject_PRSCAT\",when(col(\"PRSCAT\") == \"CT\",\n",
    "                                                              rank()\n",
    "                                                              .over(Window.partitionBy(\"USUBJID\").orderBy(\"USUBJID\",\"PRSTDTC\"))).otherwise(0))"
   ]
  },
  {
   "cell_type": "code",
   "execution_count": 69,
   "id": "9ef9591e-1147-41f5-b589-ba7f2e54193b",
   "metadata": {},
   "outputs": [
    {
     "name": "stdout",
     "output_type": "stream",
     "text": [
      "+---+----------------+------+----------------+-----+--------------------+-------+-------+------+----------+------------------------+\n",
      "|_c0|         STUDYID|DOMAIN|         USUBJID|PRSEQ|               PRTRT|PRDECOD|  PRCAT|PRSCAT|   PRSTDTC|rank_over_subject_PRSCAT|\n",
      "+---+----------------+------+----------------+-----+--------------------+-------+-------+------+----------+------------------------+\n",
      "|  1|Breast Diagnosis|    PR|BreastDx-01-0001|    1|MRI Breast Bilate...|36277-2|IMAGING|    MR|2008-08-12|                       0|\n",
      "|  2|Breast Diagnosis|    PR|BreastDx-01-0002|    1|MRI BREAST, BILAT...|36277-2|IMAGING|    MR|2008-11-25|                       0|\n",
      "|  3|Breast Diagnosis|    PR|BreastDx-01-0002|    2|PET SKULL-THIGH P...|46305-9|IMAGING|    CT|2008-11-29|                       2|\n",
      "|  4|Breast Diagnosis|    PR|BreastDx-01-0002|    3|PET SKULL-THIGH P...|44139-4|IMAGING|    PT|2008-11-29|                       0|\n",
      "|  5|Breast Diagnosis|    PR|BreastDx-01-0002|    4|PET SKULL-THIGH P...|46305-9|IMAGING|    CT|2008-11-29|                       2|\n",
      "|  6|Breast Diagnosis|    PR|BreastDx-01-0002|    5|PET SKULL-THIGH P...|44139-4|IMAGING|    PT|2008-11-29|                       0|\n",
      "|  7|Breast Diagnosis|    PR|BreastDx-01-0002|    6|PET SKULL-THIGH P...|44139-4|IMAGING|    PT|2008-11-29|                       0|\n",
      "|  8|Breast Diagnosis|    PR|BreastDx-01-0002|    7|PET SKULL-THIGH P...|46305-9|IMAGING|    CT|2008-11-29|                       2|\n",
      "|  9|Breast Diagnosis|    PR|BreastDx-01-0002|    8|MA SURGICAL SPECIMEN|46342-2|IMAGING|    MG|2008-12-13|                       0|\n",
      "| 10|Breast Diagnosis|    PR|BreastDx-01-0003|    1|Digital Diagnosti...|36626-0|IMAGING|    MG|2008-04-12|                       0|\n",
      "| 11|Breast Diagnosis|    PR|BreastDx-01-0003|    2|MRI Breast Bilate...|36277-2|IMAGING|    MR|2008-04-19|                       0|\n",
      "| 12|Breast Diagnosis|    PR|BreastDx-01-0003|    3|Digital Left Mamm...|36627-8|IMAGING|    MG|2008-04-22|                       0|\n",
      "| 13|Breast Diagnosis|    PR|BreastDx-01-0003|    4|MA SURGICAL SPECIMEN|46342-2|IMAGING|    MG|2008-05-24|                       0|\n",
      "| 14|Breast Diagnosis|    PR|BreastDx-01-0004|    1|MRI Breast Bilate...|36277-2|IMAGING|    MR|2007-08-11|                       0|\n",
      "| 15|Breast Diagnosis|    PR|BreastDx-01-0004|    2|MRI Left Breast w...|36278-0|IMAGING|    MR|2008-04-11|                       0|\n",
      "| 16|Breast Diagnosis|    PR|BreastDx-01-0005|    1|MRI BREAST, BILAT...|36277-2|IMAGING|    MR|2008-06-24|                       0|\n",
      "| 17|Breast Diagnosis|    PR|BreastDx-01-0005|    2|PET CT TUMOR, WHO...|44139-4|IMAGING|    PT|2008-08-01|                       0|\n",
      "| 18|Breast Diagnosis|    PR|BreastDx-01-0005|    3|PET CT TUMOR, WHO...|46305-9|IMAGING|    CT|2008-08-01|                       2|\n",
      "| 19|Breast Diagnosis|    PR|BreastDx-01-0005|    4|PET CT TUMOR, WHO...|46305-9|IMAGING|    CT|2008-08-01|                       2|\n",
      "| 20|Breast Diagnosis|    PR|BreastDx-01-0005|    5|PET CT TUMOR, WHO...|46305-9|IMAGING|    CT|2008-08-01|                       2|\n",
      "+---+----------------+------+----------------+-----+--------------------+-------+-------+------+----------+------------------------+\n",
      "only showing top 20 rows\n"
     ]
    },
    {
     "name": "stderr",
     "output_type": "stream",
     "text": [
      "25/06/03 19:18:22 WARN CSVHeaderChecker: CSV header does not conform to the schema.\n",
      " Header: , STUDYID, DOMAIN, USUBJID, PRSEQ, PRTRT, PRDECOD, PRCAT, PRSCAT, PRSTDTC\n",
      " Schema: _c0, STUDYID, DOMAIN, USUBJID, PRSEQ, PRTRT, PRDECOD, PRCAT, PRSCAT, PRSTDTC\n",
      "Expected: _c0 but found: \n",
      "CSV file: file:///Users/benjaminbrooke/Downloads/dicubed_sdtm_csv_2019-05-30/pr.csv\n"
     ]
    }
   ],
   "source": [
    "rank_CT_df.orderBy(\"USUBJID\").show()"
   ]
  },
  {
   "cell_type": "code",
   "execution_count": 85,
   "id": "fd90de2e-06c3-44e7-974b-c05bf07f0a0a",
   "metadata": {},
   "outputs": [],
   "source": [
    "rank_CT_df = df.withColumn(\"rank_over_subject_PRSCAT\",rank().over(Window.partitionBy(\"USUBJID\").orderBy(\"PRSTDTC\")))"
   ]
  },
  {
   "cell_type": "code",
   "execution_count": 86,
   "id": "3b24604a-a33e-4d0a-899e-102023090981",
   "metadata": {},
   "outputs": [
    {
     "name": "stdout",
     "output_type": "stream",
     "text": [
      "+---+----------------+------+----------------+-----+--------------------+-------+-------+------+----------+------------------------+\n",
      "|_c0|         STUDYID|DOMAIN|         USUBJID|PRSEQ|               PRTRT|PRDECOD|  PRCAT|PRSCAT|   PRSTDTC|rank_over_subject_PRSCAT|\n",
      "+---+----------------+------+----------------+-----+--------------------+-------+-------+------+----------+------------------------+\n",
      "|  1|Breast Diagnosis|    PR|BreastDx-01-0001|    1|MRI Breast Bilate...|36277-2|IMAGING|    MR|2008-08-12|                       1|\n",
      "|  2|Breast Diagnosis|    PR|BreastDx-01-0002|    1|MRI BREAST, BILAT...|36277-2|IMAGING|    MR|2008-11-25|                       1|\n",
      "|  3|Breast Diagnosis|    PR|BreastDx-01-0002|    2|PET SKULL-THIGH P...|46305-9|IMAGING|    CT|2008-11-29|                       2|\n",
      "|  4|Breast Diagnosis|    PR|BreastDx-01-0002|    3|PET SKULL-THIGH P...|44139-4|IMAGING|    PT|2008-11-29|                       2|\n",
      "|  5|Breast Diagnosis|    PR|BreastDx-01-0002|    4|PET SKULL-THIGH P...|46305-9|IMAGING|    CT|2008-11-29|                       2|\n",
      "|  6|Breast Diagnosis|    PR|BreastDx-01-0002|    5|PET SKULL-THIGH P...|44139-4|IMAGING|    PT|2008-11-29|                       2|\n",
      "|  7|Breast Diagnosis|    PR|BreastDx-01-0002|    6|PET SKULL-THIGH P...|44139-4|IMAGING|    PT|2008-11-29|                       2|\n",
      "|  8|Breast Diagnosis|    PR|BreastDx-01-0002|    7|PET SKULL-THIGH P...|46305-9|IMAGING|    CT|2008-11-29|                       2|\n",
      "|  9|Breast Diagnosis|    PR|BreastDx-01-0002|    8|MA SURGICAL SPECIMEN|46342-2|IMAGING|    MG|2008-12-13|                       8|\n",
      "| 10|Breast Diagnosis|    PR|BreastDx-01-0003|    1|Digital Diagnosti...|36626-0|IMAGING|    MG|2008-04-12|                       1|\n",
      "| 11|Breast Diagnosis|    PR|BreastDx-01-0003|    2|MRI Breast Bilate...|36277-2|IMAGING|    MR|2008-04-19|                       2|\n",
      "| 12|Breast Diagnosis|    PR|BreastDx-01-0003|    3|Digital Left Mamm...|36627-8|IMAGING|    MG|2008-04-22|                       3|\n",
      "| 13|Breast Diagnosis|    PR|BreastDx-01-0003|    4|MA SURGICAL SPECIMEN|46342-2|IMAGING|    MG|2008-05-24|                       4|\n",
      "| 14|Breast Diagnosis|    PR|BreastDx-01-0004|    1|MRI Breast Bilate...|36277-2|IMAGING|    MR|2007-08-11|                       1|\n",
      "| 15|Breast Diagnosis|    PR|BreastDx-01-0004|    2|MRI Left Breast w...|36278-0|IMAGING|    MR|2008-04-11|                       2|\n",
      "| 16|Breast Diagnosis|    PR|BreastDx-01-0005|    1|MRI BREAST, BILAT...|36277-2|IMAGING|    MR|2008-06-24|                       1|\n",
      "| 17|Breast Diagnosis|    PR|BreastDx-01-0005|    2|PET CT TUMOR, WHO...|44139-4|IMAGING|    PT|2008-08-01|                       2|\n",
      "| 18|Breast Diagnosis|    PR|BreastDx-01-0005|    3|PET CT TUMOR, WHO...|46305-9|IMAGING|    CT|2008-08-01|                       2|\n",
      "| 19|Breast Diagnosis|    PR|BreastDx-01-0005|    4|PET CT TUMOR, WHO...|46305-9|IMAGING|    CT|2008-08-01|                       2|\n",
      "| 20|Breast Diagnosis|    PR|BreastDx-01-0005|    5|PET CT TUMOR, WHO...|46305-9|IMAGING|    CT|2008-08-01|                       2|\n",
      "+---+----------------+------+----------------+-----+--------------------+-------+-------+------+----------+------------------------+\n",
      "only showing top 20 rows\n"
     ]
    },
    {
     "name": "stderr",
     "output_type": "stream",
     "text": [
      "25/06/03 19:23:32 WARN CSVHeaderChecker: CSV header does not conform to the schema.\n",
      " Header: , STUDYID, DOMAIN, USUBJID, PRSEQ, PRTRT, PRDECOD, PRCAT, PRSCAT, PRSTDTC\n",
      " Schema: _c0, STUDYID, DOMAIN, USUBJID, PRSEQ, PRTRT, PRDECOD, PRCAT, PRSCAT, PRSTDTC\n",
      "Expected: _c0 but found: \n",
      "CSV file: file:///Users/benjaminbrooke/Downloads/dicubed_sdtm_csv_2019-05-30/pr.csv\n"
     ]
    }
   ],
   "source": [
    "rank_CT_df.show()"
   ]
  },
  {
   "cell_type": "code",
   "execution_count": 87,
   "id": "d1eec13d-3e6d-4bf0-8b1a-cc19591e8db7",
   "metadata": {},
   "outputs": [],
   "source": [
    "rank_CT_df = df.withColumn(\"rank_over_subject_PRSCAT\",dense_rank().over(Window.partitionBy(\"USUBJID\").orderBy(\"PRSTDTC\")))"
   ]
  },
  {
   "cell_type": "code",
   "execution_count": 88,
   "id": "9cf5a0c9-1e12-4d0d-abeb-37e824ee35b5",
   "metadata": {},
   "outputs": [
    {
     "name": "stdout",
     "output_type": "stream",
     "text": [
      "+---+----------------+------+----------------+-----+--------------------+-------+-------+------+----------+------------------------+\n",
      "|_c0|         STUDYID|DOMAIN|         USUBJID|PRSEQ|               PRTRT|PRDECOD|  PRCAT|PRSCAT|   PRSTDTC|rank_over_subject_PRSCAT|\n",
      "+---+----------------+------+----------------+-----+--------------------+-------+-------+------+----------+------------------------+\n",
      "|  1|Breast Diagnosis|    PR|BreastDx-01-0001|    1|MRI Breast Bilate...|36277-2|IMAGING|    MR|2008-08-12|                       1|\n",
      "|  2|Breast Diagnosis|    PR|BreastDx-01-0002|    1|MRI BREAST, BILAT...|36277-2|IMAGING|    MR|2008-11-25|                       1|\n",
      "|  3|Breast Diagnosis|    PR|BreastDx-01-0002|    2|PET SKULL-THIGH P...|46305-9|IMAGING|    CT|2008-11-29|                       2|\n",
      "|  4|Breast Diagnosis|    PR|BreastDx-01-0002|    3|PET SKULL-THIGH P...|44139-4|IMAGING|    PT|2008-11-29|                       2|\n",
      "|  5|Breast Diagnosis|    PR|BreastDx-01-0002|    4|PET SKULL-THIGH P...|46305-9|IMAGING|    CT|2008-11-29|                       2|\n",
      "|  6|Breast Diagnosis|    PR|BreastDx-01-0002|    5|PET SKULL-THIGH P...|44139-4|IMAGING|    PT|2008-11-29|                       2|\n",
      "|  7|Breast Diagnosis|    PR|BreastDx-01-0002|    6|PET SKULL-THIGH P...|44139-4|IMAGING|    PT|2008-11-29|                       2|\n",
      "|  8|Breast Diagnosis|    PR|BreastDx-01-0002|    7|PET SKULL-THIGH P...|46305-9|IMAGING|    CT|2008-11-29|                       2|\n",
      "|  9|Breast Diagnosis|    PR|BreastDx-01-0002|    8|MA SURGICAL SPECIMEN|46342-2|IMAGING|    MG|2008-12-13|                       3|\n",
      "| 10|Breast Diagnosis|    PR|BreastDx-01-0003|    1|Digital Diagnosti...|36626-0|IMAGING|    MG|2008-04-12|                       1|\n",
      "| 11|Breast Diagnosis|    PR|BreastDx-01-0003|    2|MRI Breast Bilate...|36277-2|IMAGING|    MR|2008-04-19|                       2|\n",
      "| 12|Breast Diagnosis|    PR|BreastDx-01-0003|    3|Digital Left Mamm...|36627-8|IMAGING|    MG|2008-04-22|                       3|\n",
      "| 13|Breast Diagnosis|    PR|BreastDx-01-0003|    4|MA SURGICAL SPECIMEN|46342-2|IMAGING|    MG|2008-05-24|                       4|\n",
      "| 14|Breast Diagnosis|    PR|BreastDx-01-0004|    1|MRI Breast Bilate...|36277-2|IMAGING|    MR|2007-08-11|                       1|\n",
      "| 15|Breast Diagnosis|    PR|BreastDx-01-0004|    2|MRI Left Breast w...|36278-0|IMAGING|    MR|2008-04-11|                       2|\n",
      "| 16|Breast Diagnosis|    PR|BreastDx-01-0005|    1|MRI BREAST, BILAT...|36277-2|IMAGING|    MR|2008-06-24|                       1|\n",
      "| 17|Breast Diagnosis|    PR|BreastDx-01-0005|    2|PET CT TUMOR, WHO...|44139-4|IMAGING|    PT|2008-08-01|                       2|\n",
      "| 18|Breast Diagnosis|    PR|BreastDx-01-0005|    3|PET CT TUMOR, WHO...|46305-9|IMAGING|    CT|2008-08-01|                       2|\n",
      "| 19|Breast Diagnosis|    PR|BreastDx-01-0005|    4|PET CT TUMOR, WHO...|46305-9|IMAGING|    CT|2008-08-01|                       2|\n",
      "| 20|Breast Diagnosis|    PR|BreastDx-01-0005|    5|PET CT TUMOR, WHO...|46305-9|IMAGING|    CT|2008-08-01|                       2|\n",
      "+---+----------------+------+----------------+-----+--------------------+-------+-------+------+----------+------------------------+\n",
      "only showing top 20 rows\n"
     ]
    },
    {
     "name": "stderr",
     "output_type": "stream",
     "text": [
      "25/06/03 19:24:17 WARN CSVHeaderChecker: CSV header does not conform to the schema.\n",
      " Header: , STUDYID, DOMAIN, USUBJID, PRSEQ, PRTRT, PRDECOD, PRCAT, PRSCAT, PRSTDTC\n",
      " Schema: _c0, STUDYID, DOMAIN, USUBJID, PRSEQ, PRTRT, PRDECOD, PRCAT, PRSCAT, PRSTDTC\n",
      "Expected: _c0 but found: \n",
      "CSV file: file:///Users/benjaminbrooke/Downloads/dicubed_sdtm_csv_2019-05-30/pr.csv\n"
     ]
    }
   ],
   "source": [
    "rank_CT_df.show()"
   ]
  },
  {
   "cell_type": "code",
   "execution_count": 91,
   "id": "e37bb5bb-26bb-4a1a-9031-b02a99f14746",
   "metadata": {},
   "outputs": [],
   "source": [
    "dense_rank_CT_df_Subject = df.withColumn(\"rank_over_subject_PRSCAT\",when(col(\"PRSCAT\") == \"CT\",\n",
    "                                                              row_number()\n",
    "                                                              .over(Window.partitionBy(\"USUBJID\").orderBy(\"USUBJID\"))).otherwise(0))"
   ]
  },
  {
   "cell_type": "code",
   "execution_count": 90,
   "id": "2017c807-a314-44c1-8a1e-29404da2d7ea",
   "metadata": {},
   "outputs": [
    {
     "name": "stdout",
     "output_type": "stream",
     "text": [
      "+---+----------------+------+----------------+-----+--------------------+-------+-------+------+----------+------------------------+\n",
      "|_c0|         STUDYID|DOMAIN|         USUBJID|PRSEQ|               PRTRT|PRDECOD|  PRCAT|PRSCAT|   PRSTDTC|rank_over_subject_PRSCAT|\n",
      "+---+----------------+------+----------------+-----+--------------------+-------+-------+------+----------+------------------------+\n",
      "|  1|Breast Diagnosis|    PR|BreastDx-01-0001|    1|MRI Breast Bilate...|36277-2|IMAGING|    MR|2008-08-12|                       0|\n",
      "|  2|Breast Diagnosis|    PR|BreastDx-01-0002|    1|MRI BREAST, BILAT...|36277-2|IMAGING|    MR|2008-11-25|                       0|\n",
      "|  3|Breast Diagnosis|    PR|BreastDx-01-0002|    2|PET SKULL-THIGH P...|46305-9|IMAGING|    CT|2008-11-29|                       2|\n",
      "|  4|Breast Diagnosis|    PR|BreastDx-01-0002|    3|PET SKULL-THIGH P...|44139-4|IMAGING|    PT|2008-11-29|                       0|\n",
      "|  5|Breast Diagnosis|    PR|BreastDx-01-0002|    4|PET SKULL-THIGH P...|46305-9|IMAGING|    CT|2008-11-29|                       4|\n",
      "|  6|Breast Diagnosis|    PR|BreastDx-01-0002|    5|PET SKULL-THIGH P...|44139-4|IMAGING|    PT|2008-11-29|                       0|\n",
      "|  7|Breast Diagnosis|    PR|BreastDx-01-0002|    6|PET SKULL-THIGH P...|44139-4|IMAGING|    PT|2008-11-29|                       0|\n",
      "|  8|Breast Diagnosis|    PR|BreastDx-01-0002|    7|PET SKULL-THIGH P...|46305-9|IMAGING|    CT|2008-11-29|                       7|\n",
      "|  9|Breast Diagnosis|    PR|BreastDx-01-0002|    8|MA SURGICAL SPECIMEN|46342-2|IMAGING|    MG|2008-12-13|                       0|\n",
      "| 10|Breast Diagnosis|    PR|BreastDx-01-0003|    1|Digital Diagnosti...|36626-0|IMAGING|    MG|2008-04-12|                       0|\n",
      "| 11|Breast Diagnosis|    PR|BreastDx-01-0003|    2|MRI Breast Bilate...|36277-2|IMAGING|    MR|2008-04-19|                       0|\n",
      "| 12|Breast Diagnosis|    PR|BreastDx-01-0003|    3|Digital Left Mamm...|36627-8|IMAGING|    MG|2008-04-22|                       0|\n",
      "| 13|Breast Diagnosis|    PR|BreastDx-01-0003|    4|MA SURGICAL SPECIMEN|46342-2|IMAGING|    MG|2008-05-24|                       0|\n",
      "| 14|Breast Diagnosis|    PR|BreastDx-01-0004|    1|MRI Breast Bilate...|36277-2|IMAGING|    MR|2007-08-11|                       0|\n",
      "| 15|Breast Diagnosis|    PR|BreastDx-01-0004|    2|MRI Left Breast w...|36278-0|IMAGING|    MR|2008-04-11|                       0|\n",
      "| 16|Breast Diagnosis|    PR|BreastDx-01-0005|    1|MRI BREAST, BILAT...|36277-2|IMAGING|    MR|2008-06-24|                       0|\n",
      "| 17|Breast Diagnosis|    PR|BreastDx-01-0005|    2|PET CT TUMOR, WHO...|44139-4|IMAGING|    PT|2008-08-01|                       0|\n",
      "| 18|Breast Diagnosis|    PR|BreastDx-01-0005|    3|PET CT TUMOR, WHO...|46305-9|IMAGING|    CT|2008-08-01|                       3|\n",
      "| 19|Breast Diagnosis|    PR|BreastDx-01-0005|    4|PET CT TUMOR, WHO...|46305-9|IMAGING|    CT|2008-08-01|                       4|\n",
      "| 20|Breast Diagnosis|    PR|BreastDx-01-0005|    5|PET CT TUMOR, WHO...|46305-9|IMAGING|    CT|2008-08-01|                       5|\n",
      "+---+----------------+------+----------------+-----+--------------------+-------+-------+------+----------+------------------------+\n",
      "only showing top 20 rows\n"
     ]
    },
    {
     "name": "stderr",
     "output_type": "stream",
     "text": [
      "25/06/03 19:25:33 WARN CSVHeaderChecker: CSV header does not conform to the schema.\n",
      " Header: , STUDYID, DOMAIN, USUBJID, PRSEQ, PRTRT, PRDECOD, PRCAT, PRSCAT, PRSTDTC\n",
      " Schema: _c0, STUDYID, DOMAIN, USUBJID, PRSEQ, PRTRT, PRDECOD, PRCAT, PRSCAT, PRSTDTC\n",
      "Expected: _c0 but found: \n",
      "CSV file: file:///Users/benjaminbrooke/Downloads/dicubed_sdtm_csv_2019-05-30/pr.csv\n"
     ]
    }
   ],
   "source": [
    "dense_rank_CT_df_Subject.show()"
   ]
  },
  {
   "cell_type": "code",
   "execution_count": 94,
   "id": "a0fc9901-393e-4500-af87-1c120a826fe3",
   "metadata": {},
   "outputs": [],
   "source": [
    "dense_rank_CT_df_Subject = df.withColumn(\"rank_over_subject_PRSCAT\",when(col(\"PRSCAT\") == \"CT\",\n",
    "                                                              row_number()\n",
    "                                                              .over(Window.partitionBy(\"USUBJID\",\"PRSCAT\").orderBy(\"USUBJID\"))).otherwise(0))"
   ]
  },
  {
   "cell_type": "code",
   "execution_count": 102,
   "id": "0ac1d9b8-37c3-4c32-a3f0-b1a055297f0e",
   "metadata": {},
   "outputs": [
    {
     "name": "stdout",
     "output_type": "stream",
     "text": [
      "+---+----------------+------+----------------+-----+--------------------+-------+-------+------+----------+------------------------+\n",
      "|_c0|         STUDYID|DOMAIN|         USUBJID|PRSEQ|               PRTRT|PRDECOD|  PRCAT|PRSCAT|   PRSTDTC|rank_over_subject_PRSCAT|\n",
      "+---+----------------+------+----------------+-----+--------------------+-------+-------+------+----------+------------------------+\n",
      "|  1|Breast Diagnosis|    PR|BreastDx-01-0001|    1|MRI Breast Bilate...|36277-2|IMAGING|    MR|2008-08-12|                       0|\n",
      "|  3|Breast Diagnosis|    PR|BreastDx-01-0002|    2|PET SKULL-THIGH P...|46305-9|IMAGING|    CT|2008-11-29|                       1|\n",
      "|  5|Breast Diagnosis|    PR|BreastDx-01-0002|    4|PET SKULL-THIGH P...|46305-9|IMAGING|    CT|2008-11-29|                       2|\n",
      "|  8|Breast Diagnosis|    PR|BreastDx-01-0002|    7|PET SKULL-THIGH P...|46305-9|IMAGING|    CT|2008-11-29|                       3|\n",
      "|  9|Breast Diagnosis|    PR|BreastDx-01-0002|    8|MA SURGICAL SPECIMEN|46342-2|IMAGING|    MG|2008-12-13|                       0|\n",
      "|  2|Breast Diagnosis|    PR|BreastDx-01-0002|    1|MRI BREAST, BILAT...|36277-2|IMAGING|    MR|2008-11-25|                       0|\n",
      "|  4|Breast Diagnosis|    PR|BreastDx-01-0002|    3|PET SKULL-THIGH P...|44139-4|IMAGING|    PT|2008-11-29|                       0|\n",
      "|  6|Breast Diagnosis|    PR|BreastDx-01-0002|    5|PET SKULL-THIGH P...|44139-4|IMAGING|    PT|2008-11-29|                       0|\n",
      "|  7|Breast Diagnosis|    PR|BreastDx-01-0002|    6|PET SKULL-THIGH P...|44139-4|IMAGING|    PT|2008-11-29|                       0|\n",
      "| 10|Breast Diagnosis|    PR|BreastDx-01-0003|    1|Digital Diagnosti...|36626-0|IMAGING|    MG|2008-04-12|                       0|\n",
      "| 12|Breast Diagnosis|    PR|BreastDx-01-0003|    3|Digital Left Mamm...|36627-8|IMAGING|    MG|2008-04-22|                       0|\n",
      "| 13|Breast Diagnosis|    PR|BreastDx-01-0003|    4|MA SURGICAL SPECIMEN|46342-2|IMAGING|    MG|2008-05-24|                       0|\n",
      "| 11|Breast Diagnosis|    PR|BreastDx-01-0003|    2|MRI Breast Bilate...|36277-2|IMAGING|    MR|2008-04-19|                       0|\n",
      "| 14|Breast Diagnosis|    PR|BreastDx-01-0004|    1|MRI Breast Bilate...|36277-2|IMAGING|    MR|2007-08-11|                       0|\n",
      "| 15|Breast Diagnosis|    PR|BreastDx-01-0004|    2|MRI Left Breast w...|36278-0|IMAGING|    MR|2008-04-11|                       0|\n",
      "| 18|Breast Diagnosis|    PR|BreastDx-01-0005|    3|PET CT TUMOR, WHO...|46305-9|IMAGING|    CT|2008-08-01|                       1|\n",
      "| 19|Breast Diagnosis|    PR|BreastDx-01-0005|    4|PET CT TUMOR, WHO...|46305-9|IMAGING|    CT|2008-08-01|                       2|\n",
      "| 20|Breast Diagnosis|    PR|BreastDx-01-0005|    5|PET CT TUMOR, WHO...|46305-9|IMAGING|    CT|2008-08-01|                       3|\n",
      "| 26|Breast Diagnosis|    PR|BreastDx-01-0005|   11|PET SKULL-THIGH P...|46305-9|IMAGING|    CT|2008-11-15|                       4|\n",
      "| 27|Breast Diagnosis|    PR|BreastDx-01-0005|   12|PET SKULL-THIGH P...|46305-9|IMAGING|    CT|2008-11-15|                       5|\n",
      "| 29|Breast Diagnosis|    PR|BreastDx-01-0005|   14|PET SKULL-THIGH P...|46305-9|IMAGING|    CT|2008-11-15|                       6|\n",
      "| 30|Breast Diagnosis|    PR|BreastDx-01-0005|   15|MA SURGICAL SPECIMEN|46342-2|IMAGING|    MG|2008-12-05|                       0|\n",
      "| 16|Breast Diagnosis|    PR|BreastDx-01-0005|    1|MRI BREAST, BILAT...|36277-2|IMAGING|    MR|2008-06-24|                       0|\n",
      "| 23|Breast Diagnosis|    PR|BreastDx-01-0005|    8|MRI BREAST, BILAT...|36277-2|IMAGING|    MR|2008-11-11|                       0|\n",
      "| 17|Breast Diagnosis|    PR|BreastDx-01-0005|    2|PET CT TUMOR, WHO...|44139-4|IMAGING|    PT|2008-08-01|                       0|\n",
      "| 21|Breast Diagnosis|    PR|BreastDx-01-0005|    6|PET CT TUMOR, WHO...|44139-4|IMAGING|    PT|2008-08-01|                       0|\n",
      "| 22|Breast Diagnosis|    PR|BreastDx-01-0005|    7|PET CT TUMOR, WHO...|44139-4|IMAGING|    PT|2008-08-01|                       0|\n",
      "| 24|Breast Diagnosis|    PR|BreastDx-01-0005|    9|PET SKULL-THIGH P...|44139-4|IMAGING|    PT|2008-11-15|                       0|\n",
      "| 25|Breast Diagnosis|    PR|BreastDx-01-0005|   10|PET SKULL-THIGH P...|44139-4|IMAGING|    PT|2008-11-15|                       0|\n",
      "| 28|Breast Diagnosis|    PR|BreastDx-01-0005|   13|PET SKULL-THIGH P...|44139-4|IMAGING|    PT|2008-11-15|                       0|\n",
      "+---+----------------+------+----------------+-----+--------------------+-------+-------+------+----------+------------------------+\n",
      "only showing top 30 rows\n"
     ]
    },
    {
     "name": "stderr",
     "output_type": "stream",
     "text": [
      "25/06/03 19:50:21 WARN CSVHeaderChecker: CSV header does not conform to the schema.\n",
      " Header: , STUDYID, DOMAIN, USUBJID, PRSEQ, PRTRT, PRDECOD, PRCAT, PRSCAT, PRSTDTC\n",
      " Schema: _c0, STUDYID, DOMAIN, USUBJID, PRSEQ, PRTRT, PRDECOD, PRCAT, PRSCAT, PRSTDTC\n",
      "Expected: _c0 but found: \n",
      "CSV file: file:///Users/benjaminbrooke/Downloads/dicubed_sdtm_csv_2019-05-30/pr.csv\n"
     ]
    }
   ],
   "source": [
    "dense_rank_CT_df_Subject.show(30)"
   ]
  },
  {
   "cell_type": "code",
   "execution_count": 103,
   "id": "b604524c-7628-4763-923e-1b628e00da6e",
   "metadata": {},
   "outputs": [
    {
     "name": "stdout",
     "output_type": "stream",
     "text": [
      "+----------------------------------------+\n",
      "|PRTRT                                   |\n",
      "+----------------------------------------+\n",
      "|MR BRAIN WITHOUT AND WITH CONTRAST D159 |\n",
      "|MR BRAIN WITHOUT AND WITH CONTRAST D799 |\n",
      "|MR BRAIN WITHOUT AND WITH CONTRAST D98  |\n",
      "|MR BRAIN WITHOUT AND WITH CONTRAST D30  |\n",
      "|MR BRAIN WITHOUT AND WITH CONTRAST D212 |\n",
      "|MR BRAIN WITHOUT AND WITH CONTRAST D702 |\n",
      "|MR BRAIN WITHOUT AND WITH CONTRAST D355 |\n",
      "|MR BRAIN WITHOUT AND WITH CONTRAST D222 |\n",
      "|MR BRAIN WITHOUT AND WITH CONTRAST D270 |\n",
      "|MR BRAIN WITHOUT AND WITH CONTRAST D182 |\n",
      "|MR BRAIN WITHOUT AND WITH CONTRAST D294 |\n",
      "|MR BRAIN WITHOUT AND WITH CONTRAST D591 |\n",
      "|MRI PRE&POST INF BREASTMR               |\n",
      "|OUTSIDE MR - HEAD D97                   |\n",
      "|MRBRUR                                  |\n",
      "|MR BRAIN WITHOUT AND WITH CONTRAST D647 |\n",
      "|3607 ACRIN 6657 LT BREAST/GAD           |\n",
      "|Breast Bil tumor ax                     |\n",
      "|OUTSIDE MR - HEAD D94                   |\n",
      "|MR BRAIN WITHOUT AND WITH CONTRAST D1039|\n",
      "|MR BRAIN WITHOUT AND WITH CONTRAST D235 |\n",
      "|RT BREAST ACCRIN                        |\n",
      "|3607 MR LT BREAST WO/W CONT             |\n",
      "|MR BRAIN WITHOUT AND WITH CONTRAST D-2  |\n",
      "|MR BRAIN WITHOUT AND WITH CONTRAST D396 |\n",
      "|MR BREAST UNILAT                        |\n",
      "|MR BRAIN WITHOUT AND WITH CONTRAST D414 |\n",
      "|MR BRAIN WITHOUT AND WITH CONTRAST D148 |\n",
      "|BREAST-RIGHT                            |\n",
      "|MR BRAIN WITHOUT AND WITH CONTRAST D266 |\n",
      "|MR BRAIN WITHOUT AND WITH CONTRAST D600 |\n",
      "|MR BRAIN WITHOUT AND WITH CONTRAST D1230|\n",
      "|MR BREAST WO OR W BILAT                 |\n",
      "|Outside Read or Comparison BREAST MRI   |\n",
      "|MR BRAIN WITHOUT AND WITH CONTRAST D733 |\n",
      "|BODY/RESEARCH STUDY                     |\n",
      "|Digital Spot Compression: 9286464       |\n",
      "|MR BRAIN WITHOUT AND WITH CONTRAST D467 |\n",
      "|OUTSIDE MR - HEAD D-195                 |\n",
      "|MR BRAIN W CONTRAST D275                |\n",
      "+----------------------------------------+\n",
      "only showing top 40 rows\n"
     ]
    }
   ],
   "source": [
    "scat = df.select(col(\"PRTRT\"))\n",
    "scat.distinct().show(40,truncate=False)"
   ]
  },
  {
   "cell_type": "code",
   "execution_count": 123,
   "id": "9fc75fd0-1848-4799-a346-c84ff9c08cfb",
   "metadata": {},
   "outputs": [],
   "source": [
    "win = Window.partitionBy(\"USUBJID\").orderBy('PRSTDTC')\n",
    "\n",
    "DSC = df.withColumn(\n",
    "    'Digital Spot Compression: 9286464',\n",
    "    when((col('PRDECOD') == '46342-2') ,lit(1)).otherwise(0))"
   ]
  },
  {
   "cell_type": "code",
   "execution_count": 124,
   "id": "aa014276-fae1-4b14-b409-14f0cd3b5cb2",
   "metadata": {},
   "outputs": [
    {
     "name": "stdout",
     "output_type": "stream",
     "text": [
      "+---+----------------+------+----------------+-----+--------------------+-------+-------+------+----------+---------------------------------+\n",
      "|_c0|         STUDYID|DOMAIN|         USUBJID|PRSEQ|               PRTRT|PRDECOD|  PRCAT|PRSCAT|   PRSTDTC|Digital Spot Compression: 9286464|\n",
      "+---+----------------+------+----------------+-----+--------------------+-------+-------+------+----------+---------------------------------+\n",
      "|  1|Breast Diagnosis|    PR|BreastDx-01-0001|    1|MRI Breast Bilate...|36277-2|IMAGING|    MR|2008-08-12|                                0|\n",
      "|  2|Breast Diagnosis|    PR|BreastDx-01-0002|    1|MRI BREAST, BILAT...|36277-2|IMAGING|    MR|2008-11-25|                                0|\n",
      "|  3|Breast Diagnosis|    PR|BreastDx-01-0002|    2|PET SKULL-THIGH P...|46305-9|IMAGING|    CT|2008-11-29|                                0|\n",
      "|  4|Breast Diagnosis|    PR|BreastDx-01-0002|    3|PET SKULL-THIGH P...|44139-4|IMAGING|    PT|2008-11-29|                                0|\n",
      "|  5|Breast Diagnosis|    PR|BreastDx-01-0002|    4|PET SKULL-THIGH P...|46305-9|IMAGING|    CT|2008-11-29|                                0|\n",
      "|  6|Breast Diagnosis|    PR|BreastDx-01-0002|    5|PET SKULL-THIGH P...|44139-4|IMAGING|    PT|2008-11-29|                                0|\n",
      "|  7|Breast Diagnosis|    PR|BreastDx-01-0002|    6|PET SKULL-THIGH P...|44139-4|IMAGING|    PT|2008-11-29|                                0|\n",
      "|  8|Breast Diagnosis|    PR|BreastDx-01-0002|    7|PET SKULL-THIGH P...|46305-9|IMAGING|    CT|2008-11-29|                                0|\n",
      "|  9|Breast Diagnosis|    PR|BreastDx-01-0002|    8|MA SURGICAL SPECIMEN|46342-2|IMAGING|    MG|2008-12-13|                                1|\n",
      "| 10|Breast Diagnosis|    PR|BreastDx-01-0003|    1|Digital Diagnosti...|36626-0|IMAGING|    MG|2008-04-12|                                0|\n",
      "| 11|Breast Diagnosis|    PR|BreastDx-01-0003|    2|MRI Breast Bilate...|36277-2|IMAGING|    MR|2008-04-19|                                0|\n",
      "| 12|Breast Diagnosis|    PR|BreastDx-01-0003|    3|Digital Left Mamm...|36627-8|IMAGING|    MG|2008-04-22|                                0|\n",
      "| 13|Breast Diagnosis|    PR|BreastDx-01-0003|    4|MA SURGICAL SPECIMEN|46342-2|IMAGING|    MG|2008-05-24|                                1|\n",
      "| 14|Breast Diagnosis|    PR|BreastDx-01-0004|    1|MRI Breast Bilate...|36277-2|IMAGING|    MR|2007-08-11|                                0|\n",
      "| 15|Breast Diagnosis|    PR|BreastDx-01-0004|    2|MRI Left Breast w...|36278-0|IMAGING|    MR|2008-04-11|                                0|\n",
      "| 16|Breast Diagnosis|    PR|BreastDx-01-0005|    1|MRI BREAST, BILAT...|36277-2|IMAGING|    MR|2008-06-24|                                0|\n",
      "| 17|Breast Diagnosis|    PR|BreastDx-01-0005|    2|PET CT TUMOR, WHO...|44139-4|IMAGING|    PT|2008-08-01|                                0|\n",
      "| 18|Breast Diagnosis|    PR|BreastDx-01-0005|    3|PET CT TUMOR, WHO...|46305-9|IMAGING|    CT|2008-08-01|                                0|\n",
      "| 19|Breast Diagnosis|    PR|BreastDx-01-0005|    4|PET CT TUMOR, WHO...|46305-9|IMAGING|    CT|2008-08-01|                                0|\n",
      "| 20|Breast Diagnosis|    PR|BreastDx-01-0005|    5|PET CT TUMOR, WHO...|46305-9|IMAGING|    CT|2008-08-01|                                0|\n",
      "+---+----------------+------+----------------+-----+--------------------+-------+-------+------+----------+---------------------------------+\n",
      "only showing top 20 rows\n"
     ]
    },
    {
     "name": "stderr",
     "output_type": "stream",
     "text": [
      "25/06/03 19:55:26 WARN CSVHeaderChecker: CSV header does not conform to the schema.\n",
      " Header: , STUDYID, DOMAIN, USUBJID, PRSEQ, PRTRT, PRDECOD, PRCAT, PRSCAT, PRSTDTC\n",
      " Schema: _c0, STUDYID, DOMAIN, USUBJID, PRSEQ, PRTRT, PRDECOD, PRCAT, PRSCAT, PRSTDTC\n",
      "Expected: _c0 but found: \n",
      "CSV file: file:///Users/benjaminbrooke/Downloads/dicubed_sdtm_csv_2019-05-30/pr.csv\n"
     ]
    }
   ],
   "source": [
    "DSC.show()"
   ]
  },
  {
   "cell_type": "code",
   "execution_count": 134,
   "id": "1d4950b4-bb73-4207-97dc-cca7f3397071",
   "metadata": {},
   "outputs": [],
   "source": [
    "win = Window.partitionBy(\"USUBJID\").orderBy(\"PRSTDTC\")\n",
    "\n",
    "DSC_2 = df.withColumn(\n",
    "    'Digital Spot Compression: 9286464',\n",
    "    when(\n",
    "        max(when((col('PRDECOD') == '46342-2') ,lit(1)).otherwise(0))\n",
    "        .over(win) == 1, '46342-2 present').otherwise(\"Not present\")\n",
    ")"
   ]
  },
  {
   "cell_type": "code",
   "execution_count": 133,
   "id": "1e7fbdc6-58d9-4d5e-9dce-8ba1985c5462",
   "metadata": {},
   "outputs": [
    {
     "name": "stdout",
     "output_type": "stream",
     "text": [
      "+---+----------------+------+----------------+-----+--------------------+-------+-------+------+----------+---------------------------------+\n",
      "|_c0|         STUDYID|DOMAIN|         USUBJID|PRSEQ|               PRTRT|PRDECOD|  PRCAT|PRSCAT|   PRSTDTC|Digital Spot Compression: 9286464|\n",
      "+---+----------------+------+----------------+-----+--------------------+-------+-------+------+----------+---------------------------------+\n",
      "|  1|Breast Diagnosis|    PR|BreastDx-01-0001|    1|MRI Breast Bilate...|36277-2|IMAGING|    MR|2008-08-12|                      Not present|\n",
      "|  2|Breast Diagnosis|    PR|BreastDx-01-0002|    1|MRI BREAST, BILAT...|36277-2|IMAGING|    MR|2008-11-25|                  46342-2 present|\n",
      "|  3|Breast Diagnosis|    PR|BreastDx-01-0002|    2|PET SKULL-THIGH P...|46305-9|IMAGING|    CT|2008-11-29|                  46342-2 present|\n",
      "|  4|Breast Diagnosis|    PR|BreastDx-01-0002|    3|PET SKULL-THIGH P...|44139-4|IMAGING|    PT|2008-11-29|                  46342-2 present|\n",
      "|  5|Breast Diagnosis|    PR|BreastDx-01-0002|    4|PET SKULL-THIGH P...|46305-9|IMAGING|    CT|2008-11-29|                  46342-2 present|\n",
      "|  6|Breast Diagnosis|    PR|BreastDx-01-0002|    5|PET SKULL-THIGH P...|44139-4|IMAGING|    PT|2008-11-29|                  46342-2 present|\n",
      "|  7|Breast Diagnosis|    PR|BreastDx-01-0002|    6|PET SKULL-THIGH P...|44139-4|IMAGING|    PT|2008-11-29|                  46342-2 present|\n",
      "|  8|Breast Diagnosis|    PR|BreastDx-01-0002|    7|PET SKULL-THIGH P...|46305-9|IMAGING|    CT|2008-11-29|                  46342-2 present|\n",
      "|  9|Breast Diagnosis|    PR|BreastDx-01-0002|    8|MA SURGICAL SPECIMEN|46342-2|IMAGING|    MG|2008-12-13|                  46342-2 present|\n",
      "| 10|Breast Diagnosis|    PR|BreastDx-01-0003|    1|Digital Diagnosti...|36626-0|IMAGING|    MG|2008-04-12|                  46342-2 present|\n",
      "| 11|Breast Diagnosis|    PR|BreastDx-01-0003|    2|MRI Breast Bilate...|36277-2|IMAGING|    MR|2008-04-19|                  46342-2 present|\n",
      "| 12|Breast Diagnosis|    PR|BreastDx-01-0003|    3|Digital Left Mamm...|36627-8|IMAGING|    MG|2008-04-22|                  46342-2 present|\n",
      "| 13|Breast Diagnosis|    PR|BreastDx-01-0003|    4|MA SURGICAL SPECIMEN|46342-2|IMAGING|    MG|2008-05-24|                  46342-2 present|\n",
      "| 14|Breast Diagnosis|    PR|BreastDx-01-0004|    1|MRI Breast Bilate...|36277-2|IMAGING|    MR|2007-08-11|                      Not present|\n",
      "| 15|Breast Diagnosis|    PR|BreastDx-01-0004|    2|MRI Left Breast w...|36278-0|IMAGING|    MR|2008-04-11|                      Not present|\n",
      "| 16|Breast Diagnosis|    PR|BreastDx-01-0005|    1|MRI BREAST, BILAT...|36277-2|IMAGING|    MR|2008-06-24|                  46342-2 present|\n",
      "| 17|Breast Diagnosis|    PR|BreastDx-01-0005|    2|PET CT TUMOR, WHO...|44139-4|IMAGING|    PT|2008-08-01|                  46342-2 present|\n",
      "| 18|Breast Diagnosis|    PR|BreastDx-01-0005|    3|PET CT TUMOR, WHO...|46305-9|IMAGING|    CT|2008-08-01|                  46342-2 present|\n",
      "| 19|Breast Diagnosis|    PR|BreastDx-01-0005|    4|PET CT TUMOR, WHO...|46305-9|IMAGING|    CT|2008-08-01|                  46342-2 present|\n",
      "| 20|Breast Diagnosis|    PR|BreastDx-01-0005|    5|PET CT TUMOR, WHO...|46305-9|IMAGING|    CT|2008-08-01|                  46342-2 present|\n",
      "+---+----------------+------+----------------+-----+--------------------+-------+-------+------+----------+---------------------------------+\n",
      "only showing top 20 rows\n"
     ]
    },
    {
     "name": "stderr",
     "output_type": "stream",
     "text": [
      "25/06/03 19:58:15 WARN CSVHeaderChecker: CSV header does not conform to the schema.\n",
      " Header: , STUDYID, DOMAIN, USUBJID, PRSEQ, PRTRT, PRDECOD, PRCAT, PRSCAT, PRSTDTC\n",
      " Schema: _c0, STUDYID, DOMAIN, USUBJID, PRSEQ, PRTRT, PRDECOD, PRCAT, PRSCAT, PRSTDTC\n",
      "Expected: _c0 but found: \n",
      "CSV file: file:///Users/benjaminbrooke/Downloads/dicubed_sdtm_csv_2019-05-30/pr.csv\n"
     ]
    }
   ],
   "source": [
    "DSC_2.show()"
   ]
  }
 ],
 "metadata": {
  "kernelspec": {
   "display_name": "Python [conda env:base] *",
   "language": "python",
   "name": "conda-base-py"
  },
  "language_info": {
   "codemirror_mode": {
    "name": "ipython",
    "version": 3
   },
   "file_extension": ".py",
   "mimetype": "text/x-python",
   "name": "python",
   "nbconvert_exporter": "python",
   "pygments_lexer": "ipython3",
   "version": "3.12.2"
  }
 },
 "nbformat": 4,
 "nbformat_minor": 5
}
