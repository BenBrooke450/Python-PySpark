{
 "cells": [
  {
   "cell_type": "code",
   "execution_count": 3,
   "id": "e57c792b-b559-4776-a541-0c5f6a36b8ab",
   "metadata": {},
   "outputs": [],
   "source": [
    "from pyspark.sql import SparkSession\n",
    "from pyspark.sql.functions import col, lit, contains, when, sum, avg, round,max, row_number, desc\n",
    "from pyspark.sql.window import Window\n",
    "from pyspark.sql.types import IntegerType"
   ]
  },
  {
   "cell_type": "code",
   "execution_count": 4,
   "id": "5e72eaa1-9610-4cb9-883e-611b2850f727",
   "metadata": {},
   "outputs": [
    {
     "name": "stderr",
     "output_type": "stream",
     "text": [
      "WARNING: Using incubator modules: jdk.incubator.vector\n",
      "Using Spark's default log4j profile: org/apache/spark/log4j2-defaults.properties\n",
      "25/06/25 23:23:20 WARN Utils: Your hostname, Benjamins-MacBook-Air.local, resolves to a loopback address: 127.0.0.1; using 192.168.1.35 instead (on interface en0)\n",
      "25/06/25 23:23:20 WARN Utils: Set SPARK_LOCAL_IP if you need to bind to another address\n",
      "Using Spark's default log4j profile: org/apache/spark/log4j2-defaults.properties\n",
      "Setting default log level to \"WARN\".\n",
      "To adjust logging level use sc.setLogLevel(newLevel). For SparkR, use setLogLevel(newLevel).\n",
      "25/06/25 23:23:21 WARN NativeCodeLoader: Unable to load native-hadoop library for your platform... using builtin-java classes where applicable\n"
     ]
    }
   ],
   "source": [
    "spark = SparkSession.builder.appName(\"ExtractNestedData\").getOrCreate()"
   ]
  },
  {
   "cell_type": "code",
   "execution_count": 60,
   "id": "4c789c41-959c-49cd-acc4-64184ae54b94",
   "metadata": {},
   "outputs": [],
   "source": [
    "df = spark.read.csv(\"/Users/benjaminbrooke/Desktop/Data/dicubed_sdtm_csv_2019-05-30/tr.csv\",header = True)\n",
    "df = df.drop(\"_c0\")"
   ]
  },
  {
   "cell_type": "code",
   "execution_count": 61,
   "id": "9b6ba4fd-58fe-48f5-b00f-ecf6bd03e140",
   "metadata": {},
   "outputs": [],
   "source": [
    "df = df.withColumn(\"id\",row_number().over(Window.partitionBy(\"STUDYID\").orderBy(\"TRDTC\")))"
   ]
  },
  {
   "cell_type": "code",
   "execution_count": 62,
   "id": "4b71819b-3005-40b4-84e1-ffb40321d3f3",
   "metadata": {},
   "outputs": [
    {
     "name": "stdout",
     "output_type": "stream",
     "text": [
      "+--------------------+------+----------+-----+-------+--------+----------------+-------+--------+--------+--------+--------+--------+--------+-----+----------+---+\n",
      "|             STUDYID|DOMAIN|   USUBJID|TRSEQ|TRLNKID|TRTESTCD|          TRTEST|TRORRES|TRORRESU|TRSTRESC|TRSTRESN|TRSTRESU|TRMETHOD|VISITNUM|VISIT|     TRDTC| id|\n",
      "+--------------------+------+----------+-----+-------+--------+----------------+-------+--------+--------+--------+--------+--------+--------+-----+----------+---+\n",
      "|Breast-MRI-NACT-P...|    TR|UCSF-BR-09|   41|    T01|  VOLUME|          Volume|  29.90|      mL|   29.90|    29.9|      mL|     MRI|       1|  MR1|1986-11-26|  1|\n",
      "|Breast-MRI-NACT-P...|    TR|UCSF-BR-09|   42|    T01|   LDIAM|Longest Diameter|  64.00|      mm|   64.00|      64|      mm|     MRI|       1|  MR1|1986-11-26|  2|\n",
      "|Breast-MRI-NACT-P...|    TR|UCSF-BR-09|   43|    T01|  VOLUME|          Volume|  20.00|      mL|   20.00|      20|      mL|     MRI|       3|  MR3|1987-01-27|  3|\n",
      "|Breast-MRI-NACT-P...|    TR|UCSF-BR-09|   44|    T01|   LDIAM|Longest Diameter|  64.00|      mm|   64.00|      64|      mm|     MRI|       3|  MR3|1987-01-27|  4|\n",
      "|Breast-MRI-NACT-P...|    TR|UCSF-BR-67|  369|    T01|   LDIAM|Longest Diameter|  61.70|      mm|   61.70|    61.7|      mm|     MRI|       1|  MR1|1988-04-21|  5|\n",
      "|Breast-MRI-NACT-P...|    TR|UCSF-BR-67|  370|    T01|  VOLUME|          Volume|  30.10|      mL|   30.10|    30.1|      mL|     MRI|       1|  MR1|1988-04-21|  6|\n",
      "|Breast-MRI-NACT-P...|    TR|UCSF-BR-13|   61|    T01|  VOLUME|          Volume|  66.70|      mL|   66.70|    66.7|      mL|     MRI|       1|  MR1|1988-04-25|  7|\n",
      "|Breast-MRI-NACT-P...|    TR|UCSF-BR-13|   62|    T01|   LDIAM|Longest Diameter|  91.10|      mm|   91.10|    91.1|      mm|     MRI|       1|  MR1|1988-04-25|  8|\n",
      "|Breast-MRI-NACT-P...|    TR|UCSF-BR-18|   81|    T01|  VOLUME|          Volume|  26.50|      mL|   26.50|    26.5|      mL|     MRI|       1|  MR1|1988-06-16|  9|\n",
      "|Breast-MRI-NACT-P...|    TR|UCSF-BR-18|   82|    T01|   LDIAM|Longest Diameter|  71.00|      mm|   71.00|      71|      mm|     MRI|       1|  MR1|1988-06-16| 10|\n",
      "|Breast-MRI-NACT-P...|    TR|UCSF-BR-67|  371|    T01|   LDIAM|Longest Diameter|   7.00|      mm|    7.00|       7|      mm|     MRI|       3|  MR3|1988-08-12| 11|\n",
      "|Breast-MRI-NACT-P...|    TR|UCSF-BR-67|  372|    T01|  VOLUME|          Volume|   0.00|      mL|    0.00|       0|      mL|     MRI|       3|  MR3|1988-08-12| 12|\n",
      "|Breast-MRI-NACT-P...|    TR|UCSF-BR-18|   83|    T01|  VOLUME|          Volume|   3.30|      mL|    3.30|     3.3|      mL|     MRI|       3|  MR3|1988-09-21| 13|\n",
      "|Breast-MRI-NACT-P...|    TR|UCSF-BR-18|   84|    T01|   LDIAM|Longest Diameter|  65.00|      mm|   65.00|      65|      mm|     MRI|       3|  MR3|1988-09-21| 14|\n",
      "|Breast-MRI-NACT-P...|    TR|UCSF-BR-13|   63|    T01|  VOLUME|          Volume|   9.20|      mL|    9.20|     9.2|      mL|     MRI|       3|  MR3|1988-09-28| 15|\n",
      "|Breast-MRI-NACT-P...|    TR|UCSF-BR-13|   64|    T01|   LDIAM|Longest Diameter|  74.20|      mm|   74.20|    74.2|      mm|     MRI|       3|  MR3|1988-09-28| 16|\n",
      "|Breast-MRI-NACT-P...|    TR|UCSF-BR-44|  229|    T01|  VOLUME|          Volume|  16.30|      mL|   16.30|    16.3|      mL|     MRI|       1|  MR1|1989-02-14| 17|\n",
      "|Breast-MRI-NACT-P...|    TR|UCSF-BR-44|  230|    T01|   LDIAM|Longest Diameter|  47.10|      mm|   47.10|    47.1|      mm|     MRI|       1|  MR1|1989-02-14| 18|\n",
      "|Breast-MRI-NACT-P...|    TR|UCSF-BR-29|  145|    T01|  VOLUME|          Volume|  64.60|      mL|   64.60|    64.6|      mL|     MRI|       1|  MR1|1989-04-27| 19|\n",
      "|Breast-MRI-NACT-P...|    TR|UCSF-BR-29|  146|    T01|   LDIAM|Longest Diameter| 108.00|      mm|  108.00|     108|      mm|     MRI|       1|  MR1|1989-04-27| 20|\n",
      "+--------------------+------+----------+-----+-------+--------+----------------+-------+--------+--------+--------+--------+--------+--------+-----+----------+---+\n",
      "only showing top 20 rows\n"
     ]
    }
   ],
   "source": [
    "df.show()"
   ]
  },
  {
   "cell_type": "code",
   "execution_count": 63,
   "id": "31601c1a-29b5-4f52-969d-77e0cabc21c3",
   "metadata": {},
   "outputs": [],
   "source": [
    "df = df.drop(\"STUDYID\", \"DOMAIN\")"
   ]
  },
  {
   "cell_type": "code",
   "execution_count": 9,
   "id": "73b87124-34c0-4a04-9932-e96cde19ea65",
   "metadata": {},
   "outputs": [
    {
     "name": "stdout",
     "output_type": "stream",
     "text": [
      "+----------+-----+-------+--------+----------------+-------+--------+--------+--------+--------+--------+--------+-----+----------+---+\n",
      "|   USUBJID|TRSEQ|TRLNKID|TRTESTCD|          TRTEST|TRORRES|TRORRESU|TRSTRESC|TRSTRESN|TRSTRESU|TRMETHOD|VISITNUM|VISIT|     TRDTC| id|\n",
      "+----------+-----+-------+--------+----------------+-------+--------+--------+--------+--------+--------+--------+-----+----------+---+\n",
      "|UCSF-BR-09|   41|    T01|  VOLUME|          Volume|  29.90|      mL|   29.90|    29.9|      mL|     MRI|       1|  MR1|1986-11-26|  1|\n",
      "|UCSF-BR-09|   42|    T01|   LDIAM|Longest Diameter|  64.00|      mm|   64.00|      64|      mm|     MRI|       1|  MR1|1986-11-26|  2|\n",
      "|UCSF-BR-09|   43|    T01|  VOLUME|          Volume|  20.00|      mL|   20.00|      20|      mL|     MRI|       3|  MR3|1987-01-27|  3|\n",
      "|UCSF-BR-09|   44|    T01|   LDIAM|Longest Diameter|  64.00|      mm|   64.00|      64|      mm|     MRI|       3|  MR3|1987-01-27|  4|\n",
      "|UCSF-BR-67|  369|    T01|   LDIAM|Longest Diameter|  61.70|      mm|   61.70|    61.7|      mm|     MRI|       1|  MR1|1988-04-21|  5|\n",
      "|UCSF-BR-67|  370|    T01|  VOLUME|          Volume|  30.10|      mL|   30.10|    30.1|      mL|     MRI|       1|  MR1|1988-04-21|  6|\n",
      "|UCSF-BR-13|   61|    T01|  VOLUME|          Volume|  66.70|      mL|   66.70|    66.7|      mL|     MRI|       1|  MR1|1988-04-25|  7|\n",
      "|UCSF-BR-13|   62|    T01|   LDIAM|Longest Diameter|  91.10|      mm|   91.10|    91.1|      mm|     MRI|       1|  MR1|1988-04-25|  8|\n",
      "|UCSF-BR-18|   81|    T01|  VOLUME|          Volume|  26.50|      mL|   26.50|    26.5|      mL|     MRI|       1|  MR1|1988-06-16|  9|\n",
      "|UCSF-BR-18|   82|    T01|   LDIAM|Longest Diameter|  71.00|      mm|   71.00|      71|      mm|     MRI|       1|  MR1|1988-06-16| 10|\n",
      "|UCSF-BR-67|  371|    T01|   LDIAM|Longest Diameter|   7.00|      mm|    7.00|       7|      mm|     MRI|       3|  MR3|1988-08-12| 11|\n",
      "|UCSF-BR-67|  372|    T01|  VOLUME|          Volume|   0.00|      mL|    0.00|       0|      mL|     MRI|       3|  MR3|1988-08-12| 12|\n",
      "|UCSF-BR-18|   83|    T01|  VOLUME|          Volume|   3.30|      mL|    3.30|     3.3|      mL|     MRI|       3|  MR3|1988-09-21| 13|\n",
      "|UCSF-BR-18|   84|    T01|   LDIAM|Longest Diameter|  65.00|      mm|   65.00|      65|      mm|     MRI|       3|  MR3|1988-09-21| 14|\n",
      "|UCSF-BR-13|   63|    T01|  VOLUME|          Volume|   9.20|      mL|    9.20|     9.2|      mL|     MRI|       3|  MR3|1988-09-28| 15|\n",
      "|UCSF-BR-13|   64|    T01|   LDIAM|Longest Diameter|  74.20|      mm|   74.20|    74.2|      mm|     MRI|       3|  MR3|1988-09-28| 16|\n",
      "|UCSF-BR-44|  229|    T01|  VOLUME|          Volume|  16.30|      mL|   16.30|    16.3|      mL|     MRI|       1|  MR1|1989-02-14| 17|\n",
      "|UCSF-BR-44|  230|    T01|   LDIAM|Longest Diameter|  47.10|      mm|   47.10|    47.1|      mm|     MRI|       1|  MR1|1989-02-14| 18|\n",
      "|UCSF-BR-29|  145|    T01|  VOLUME|          Volume|  64.60|      mL|   64.60|    64.6|      mL|     MRI|       1|  MR1|1989-04-27| 19|\n",
      "|UCSF-BR-29|  146|    T01|   LDIAM|Longest Diameter| 108.00|      mm|  108.00|     108|      mm|     MRI|       1|  MR1|1989-04-27| 20|\n",
      "+----------+-----+-------+--------+----------------+-------+--------+--------+--------+--------+--------+--------+-----+----------+---+\n",
      "only showing top 20 rows\n"
     ]
    }
   ],
   "source": [
    "df.show()"
   ]
  },
  {
   "cell_type": "markdown",
   "id": "58d14d67-35d4-40a5-8787-819d8d3678ba",
   "metadata": {},
   "source": [
    "# First way of finding the percentage change"
   ]
  },
  {
   "cell_type": "code",
   "execution_count": 64,
   "id": "fe9a3287-fda5-4a6f-b278-803db9fa0d2a",
   "metadata": {},
   "outputs": [],
   "source": [
    "df_first = df.filter(col(\"TRTEST\")== \"Volume\").drop(\"id\")"
   ]
  },
  {
   "cell_type": "code",
   "execution_count": 65,
   "id": "fcec0966-22b0-46d7-8238-005c37c7a968",
   "metadata": {},
   "outputs": [
    {
     "name": "stdout",
     "output_type": "stream",
     "text": [
      "+----------+-----+-------+--------+------+-------+--------+--------+--------+--------+--------+--------+-----+----------+\n",
      "|   USUBJID|TRSEQ|TRLNKID|TRTESTCD|TRTEST|TRORRES|TRORRESU|TRSTRESC|TRSTRESN|TRSTRESU|TRMETHOD|VISITNUM|VISIT|     TRDTC|\n",
      "+----------+-----+-------+--------+------+-------+--------+--------+--------+--------+--------+--------+-----+----------+\n",
      "|UCSF-BR-01|    2|    T01|  VOLUME|Volume|   9.00|      mL|    9.00|       9|      mL|     MRI|       1|  MR1|1990-03-29|\n",
      "|UCSF-BR-01|    4|    T01|  VOLUME|Volume|   4.40|      mL|    4.40|     4.4|      mL|     MRI|       2|  MR2|1990-04-17|\n",
      "|UCSF-BR-01|    5|    T01|  VOLUME|Volume|   0.30|      mL|    0.30|     0.3|      mL|     MRI|       3|  MR3|1990-07-03|\n",
      "|UCSF-BR-02|    8|    T01|  VOLUME|Volume|  44.30|      mL|   44.30|    44.3|      mL|     MRI|       1|  MR1|1989-11-08|\n",
      "|UCSF-BR-02|   10|    T01|  VOLUME|Volume|  22.20|      mL|   22.20|    22.2|      mL|     MRI|       3|  MR3|1990-02-07|\n",
      "|UCSF-BR-03|   11|    T01|  VOLUME|Volume|   0.80|      mL|    0.80|     0.8|      mL|     MRI|       1|  MR1|1992-09-01|\n",
      "|UCSF-BR-03|   14|    T01|  VOLUME|Volume|   0.50|      mL|    0.50|     0.5|      mL|     MRI|       2|  MR2|1992-11-03|\n",
      "|UCSF-BR-03|   16|    T01|  VOLUME|Volume|   0.10|      mL|    0.10|     0.1|      mL|     MRI|       3|  MR3|1992-12-17|\n",
      "|UCSF-BR-04|   18|    T01|  VOLUME|Volume|  62.30|      mL|   62.30|    62.3|      mL|     MRI|       1|  MR1|1990-12-24|\n",
      "|UCSF-BR-04|   19|    T01|  VOLUME|Volume|  71.90|      mL|   71.90|    71.9|      mL|     MRI|       2|  MR2|1991-01-16|\n",
      "|UCSF-BR-04|   22|    T01|  VOLUME|Volume|  86.30|      mL|   86.30|    86.3|      mL|     MRI|       3|  MR3|1991-04-01|\n",
      "|UCSF-BR-06|   24|    T01|  VOLUME|Volume|  40.70|      mL|   40.70|    40.7|      mL|     MRI|       1|  MR1|1991-08-08|\n",
      "|UCSF-BR-06|   26|    T01|  VOLUME|Volume|  35.10|      mL|   35.10|    35.1|      mL|     MRI|       2|  MR2|1991-09-18|\n",
      "|UCSF-BR-06|   27|    T01|  VOLUME|Volume|  11.10|      mL|   11.10|    11.1|      mL|     MRI|       3|  MR3|1991-11-26|\n",
      "|UCSF-BR-07|   29|    T01|  VOLUME|Volume|  41.90|      mL|   41.90|    41.9|      mL|     MRI|       1|  MR1|1991-06-18|\n",
      "|UCSF-BR-07|   31|    T01|  VOLUME|Volume|  41.00|      mL|   41.00|      41|      mL|     MRI|       2|  MR2|1991-07-09|\n",
      "|UCSF-BR-07|   34|    T01|  VOLUME|Volume|   7.10|      mL|    7.10|     7.1|      mL|     MRI|       3|  MR3|1991-09-12|\n",
      "|UCSF-BR-08|   35|    T01|  VOLUME|Volume|  42.20|      mL|   42.20|    42.2|      mL|     MRI|       1|  MR1|1992-07-14|\n",
      "|UCSF-BR-08|   37|    T01|  VOLUME|Volume|   8.80|      mL|    8.80|     8.8|      mL|     MRI|       2|  MR2|1992-09-03|\n",
      "|UCSF-BR-08|   39|    T01|  VOLUME|Volume|   4.30|      mL|    4.30|     4.3|      mL|     MRI|       4|  MR4|1993-01-14|\n",
      "+----------+-----+-------+--------+------+-------+--------+--------+--------+--------+--------+--------+-----+----------+\n",
      "only showing top 20 rows\n"
     ]
    }
   ],
   "source": [
    "df_first.show()"
   ]
  },
  {
   "cell_type": "code",
   "execution_count": 66,
   "id": "4a79d686-a29f-4556-8536-5551d338a00c",
   "metadata": {},
   "outputs": [],
   "source": [
    "df_first = df_first.withColumn(\"TRSTRESN\",col(\"TRSTRESN\").cast(\"float\"))"
   ]
  },
  {
   "cell_type": "code",
   "execution_count": 67,
   "id": "857f5f5c-2c2d-4975-8efa-0524c5caca2a",
   "metadata": {},
   "outputs": [],
   "source": [
    "from pyspark.sql.functions import lag, col, first\n",
    "windowSpec = Window.partitionBy(\"USUBJID\").orderBy(col(\"VISITNUM\"))\n",
    "windowSpec_2 = Window.partitionBy(\"USUBJID\",\"VISITNUM\")"
   ]
  },
  {
   "cell_type": "code",
   "execution_count": 68,
   "id": "29534608-49a2-4b07-a232-8e1baa2b0771",
   "metadata": {},
   "outputs": [],
   "source": [
    "df_first = df_first.withColumn(\"LAG_TRORRES\",lag(\"TRORRES\", -1).over(windowSpec))"
   ]
  },
  {
   "cell_type": "code",
   "execution_count": 71,
   "id": "b1b0326a-8ff6-4e5b-ab94-5b162071f38d",
   "metadata": {},
   "outputs": [],
   "source": [
    "df_first = df_first.withColumn(\"Percentage_Change\", \n",
    "                   first(round(((col(\"TRSTRESN\") - lag(col(\"TRSTRESN\"), 1).over(windowSpec)) / \n",
    "                               lag(\"TRSTRESN\", 1).over(windowSpec))*100,2)).over(windowSpec_2)).drop("
   ]
  },
  {
   "cell_type": "code",
   "execution_count": 72,
   "id": "e9ddc5a0-463f-48cd-8228-575f66c4144c",
   "metadata": {},
   "outputs": [
    {
     "name": "stdout",
     "output_type": "stream",
     "text": [
      "+----------+-----+-------+--------+------+-------+--------+--------+--------+--------+--------+--------+-----+----------+-----------+-----------------+\n",
      "|   USUBJID|TRSEQ|TRLNKID|TRTESTCD|TRTEST|TRORRES|TRORRESU|TRSTRESC|TRSTRESN|TRSTRESU|TRMETHOD|VISITNUM|VISIT|     TRDTC|LAG_TRORRES|Percentage_Change|\n",
      "+----------+-----+-------+--------+------+-------+--------+--------+--------+--------+--------+--------+-----+----------+-----------+-----------------+\n",
      "|UCSF-BR-01|    2|    T01|  VOLUME|Volume|   9.00|      mL|    9.00|     9.0|      mL|     MRI|       1|  MR1|1990-03-29|       4.40|             NULL|\n",
      "|UCSF-BR-01|    4|    T01|  VOLUME|Volume|   4.40|      mL|    4.40|     4.4|      mL|     MRI|       2|  MR2|1990-04-17|       0.30|           -51.11|\n",
      "|UCSF-BR-01|    5|    T01|  VOLUME|Volume|   0.30|      mL|    0.30|     0.3|      mL|     MRI|       3|  MR3|1990-07-03|       NULL|           -93.18|\n",
      "|UCSF-BR-02|    8|    T01|  VOLUME|Volume|  44.30|      mL|   44.30|    44.3|      mL|     MRI|       1|  MR1|1989-11-08|      22.20|             NULL|\n",
      "|UCSF-BR-02|   10|    T01|  VOLUME|Volume|  22.20|      mL|   22.20|    22.2|      mL|     MRI|       3|  MR3|1990-02-07|       NULL|           -49.89|\n",
      "|UCSF-BR-03|   11|    T01|  VOLUME|Volume|   0.80|      mL|    0.80|     0.8|      mL|     MRI|       1|  MR1|1992-09-01|       0.50|             NULL|\n",
      "|UCSF-BR-03|   14|    T01|  VOLUME|Volume|   0.50|      mL|    0.50|     0.5|      mL|     MRI|       2|  MR2|1992-11-03|       0.10|            -37.5|\n",
      "|UCSF-BR-03|   16|    T01|  VOLUME|Volume|   0.10|      mL|    0.10|     0.1|      mL|     MRI|       3|  MR3|1992-12-17|       NULL|            -80.0|\n",
      "|UCSF-BR-04|   18|    T01|  VOLUME|Volume|  62.30|      mL|   62.30|    62.3|      mL|     MRI|       1|  MR1|1990-12-24|      71.90|             NULL|\n",
      "|UCSF-BR-04|   19|    T01|  VOLUME|Volume|  71.90|      mL|   71.90|    71.9|      mL|     MRI|       2|  MR2|1991-01-16|      86.30|            15.41|\n",
      "|UCSF-BR-04|   22|    T01|  VOLUME|Volume|  86.30|      mL|   86.30|    86.3|      mL|     MRI|       3|  MR3|1991-04-01|       NULL|            20.03|\n",
      "|UCSF-BR-06|   24|    T01|  VOLUME|Volume|  40.70|      mL|   40.70|    40.7|      mL|     MRI|       1|  MR1|1991-08-08|      35.10|             NULL|\n",
      "|UCSF-BR-06|   26|    T01|  VOLUME|Volume|  35.10|      mL|   35.10|    35.1|      mL|     MRI|       2|  MR2|1991-09-18|      11.10|           -13.76|\n",
      "|UCSF-BR-06|   27|    T01|  VOLUME|Volume|  11.10|      mL|   11.10|    11.1|      mL|     MRI|       3|  MR3|1991-11-26|       NULL|           -68.38|\n",
      "|UCSF-BR-07|   29|    T01|  VOLUME|Volume|  41.90|      mL|   41.90|    41.9|      mL|     MRI|       1|  MR1|1991-06-18|      41.00|             NULL|\n",
      "|UCSF-BR-07|   31|    T01|  VOLUME|Volume|  41.00|      mL|   41.00|    41.0|      mL|     MRI|       2|  MR2|1991-07-09|       7.10|            -2.15|\n",
      "|UCSF-BR-07|   34|    T01|  VOLUME|Volume|   7.10|      mL|    7.10|     7.1|      mL|     MRI|       3|  MR3|1991-09-12|       NULL|           -82.68|\n",
      "|UCSF-BR-08|   35|    T01|  VOLUME|Volume|  42.20|      mL|   42.20|    42.2|      mL|     MRI|       1|  MR1|1992-07-14|       8.80|             NULL|\n",
      "|UCSF-BR-08|   37|    T01|  VOLUME|Volume|   8.80|      mL|    8.80|     8.8|      mL|     MRI|       2|  MR2|1992-09-03|       4.30|           -79.15|\n",
      "|UCSF-BR-08|   39|    T01|  VOLUME|Volume|   4.30|      mL|    4.30|     4.3|      mL|     MRI|       4|  MR4|1993-01-14|       NULL|           -51.14|\n",
      "+----------+-----+-------+--------+------+-------+--------+--------+--------+--------+--------+--------+-----+----------+-----------+-----------------+\n",
      "only showing top 20 rows\n"
     ]
    }
   ],
   "source": [
    "df_first.show()"
   ]
  },
  {
   "cell_type": "code",
   "execution_count": null,
   "id": "0d582688-be47-4fb9-8c67-353368749250",
   "metadata": {},
   "outputs": [],
   "source": []
  }
 ],
 "metadata": {
  "kernelspec": {
   "display_name": "Python [conda env:base] *",
   "language": "python",
   "name": "conda-base-py"
  },
  "language_info": {
   "codemirror_mode": {
    "name": "ipython",
    "version": 3
   },
   "file_extension": ".py",
   "mimetype": "text/x-python",
   "name": "python",
   "nbconvert_exporter": "python",
   "pygments_lexer": "ipython3",
   "version": "3.12.2"
  }
 },
 "nbformat": 4,
 "nbformat_minor": 5
}
